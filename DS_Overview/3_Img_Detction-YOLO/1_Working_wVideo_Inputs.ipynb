{
 "cells": [
  {
   "cell_type": "markdown",
   "id": "2505b0a6-90cd-44c9-8fb5-cc66966b455e",
   "metadata": {},
   "source": [
    "<div class=\"alert alert-block alert-info\">\n",
    "Author:<br>Felix Gonzalez, P.E. <br>\n",
    "</div>"
   ]
  },
  {
   "cell_type": "markdown",
   "id": "6d9c5d39-053f-4735-a3fe-c7de6c82a4cc",
   "metadata": {},
   "source": [
    "This notebook shows how to obtain input from the USB Camera. The input of the USB Camera will be used to allow image detection within the video feed."
   ]
  },
  {
   "cell_type": "markdown",
   "id": "f1d2e76b-b14d-42d3-9eb3-f98d45df97af",
   "metadata": {},
   "source": [
    "# Table of Contents\n",
    "[](#)\n",
    "\n",
    "[](#)\n",
    "\n",
    "[](#)\n",
    "\n",
    "[](#)\n",
    "\n",
    "[](#)\n",
    "\n",
    "[](#)"
   ]
  },
  {
   "cell_type": "markdown",
   "id": "d86bed53-db08-4135-ae6e-457ecaa34d7f",
   "metadata": {},
   "source": [
    "# Python Libraries"
   ]
  },
  {
   "cell_type": "code",
   "execution_count": 1,
   "id": "158e2295-5a2f-4e6d-b225-d75ea247eeb1",
   "metadata": {},
   "outputs": [],
   "source": [
    "import os\n",
    "# HW Transformers to 0 fixes issue with USB Webcam Loading very slow in OpenCV\n",
    "os.environ[\"OPENCV_VIDEOIO_MSMF_ENABLE_HW_TRANSFORMS\"] = \"0\""
   ]
  },
  {
   "cell_type": "code",
   "execution_count": 2,
   "id": "34bc751b-2697-47ff-a058-2a7197c7f3ef",
   "metadata": {},
   "outputs": [],
   "source": [
    "import cv2 as cv\n",
    "import ipywidgets as widgets\n",
    "import threading\n",
    "from IPython.display import display, Image"
   ]
  },
  {
   "cell_type": "markdown",
   "id": "3640c739-589a-4596-9c8c-041caf6f8994",
   "metadata": {},
   "source": [
    "# Working with Video Inputs\n",
    "[Return to Table of Contents](#Table-of-Contents)\n",
    "\n",
    "There are varios ways to define the video camera instance and obtain a video feed. In this notebook two ways are shown:\n",
    "1. Camera instance within the Jupyter Notebook\n",
    "2. Camera instance in a new window.\n",
    "\n",
    "We will mainly use OpenCV Python Library which is a library that allows you to work opening video instances. OpenCV also has various capabilities including detecing facial bounding boxes which we will see below."
   ]
  },
  {
   "cell_type": "markdown",
   "id": "eb18c236-ba6a-428e-bbb3-820507f9f94f",
   "metadata": {},
   "source": [
    "### Camera Instance: in Notebook\n",
    "\n",
    "Running Open CV in Notebook with Stop Button.\n",
    "\n",
    "References: \n",
    "- https://medium.com/@abauville/display-your-live-webcam-feed-in-a-jupyter-notebook-using-opencv-d01eb75921d1"
   ]
  },
  {
   "cell_type": "code",
   "execution_count": 3,
   "id": "98d14f5d-f6df-4b7b-ae8c-428675427dcb",
   "metadata": {},
   "outputs": [],
   "source": [
    "# WebCam input with Stop button\n",
    "stopButton = widgets.ToggleButton(value = False,\n",
    "                                  description = 'Stop',\n",
    "                                  disabled = False,\n",
    "                                  button_style= 'danger', # 'success', 'info', 'warning', 'danger' or ''\n",
    "                                  tooltip = 'Description',\n",
    "                                  icon = 'square' # (FontAwesome names without the `fa-` prefix)\n",
    "                                 )\n",
    "\n",
    "# Display function\n",
    "def view(button):\n",
    "    capture = cv.VideoCapture(1) # Video capture object. Camera 0 is the integrated camera while 1 is USB Camera.\n",
    "    # Frame Width/Height can be commented out. Common resolutions: 1920x1080, 1600x900, 1280x800, 640x480.\n",
    "    capture.set(cv.CAP_PROP_FRAME_WIDTH, 1280) \n",
    "    capture.set(cv.CAP_PROP_FRAME_HEIGHT, 800)\n",
    "    \n",
    "    display_handle = display(None, display_id=True)\n",
    "\n",
    "    #while True: # Both while statements seem to work.\n",
    "    while(capture.isOpened()):\n",
    "        _, frame = capture.read() # Reads and captures the image frame\n",
    "        frame = cv.flip(frame, 1) # Reverses image if webcam reverses\n",
    "        _, frame = cv.imencode('.jpeg', frame) # Reads frame from buffer in memory\n",
    "        display_handle.update(Image(data=frame.tobytes())) # Uses the Jupyter Notebook Display to show in Notebook.\n",
    "        if stopButton.value == True:\n",
    "            capture.release()\n",
    "            cv.destroyAllWindows()\n",
    "            display_handle.update(None)"
   ]
  },
  {
   "cell_type": "code",
   "execution_count": 4,
   "id": "20f178b0-b0de-420a-a331-2e1d25e57056",
   "metadata": {},
   "outputs": [
    {
     "data": {
      "application/vnd.jupyter.widget-view+json": {
       "model_id": "6717c00fbebf4e2181850e0ec8e8a368",
       "version_major": 2,
       "version_minor": 0
      },
      "text/plain": [
       "ToggleButton(value=False, button_style='danger', description='Stop', icon='square', tooltip='Description')"
      ]
     },
     "metadata": {},
     "output_type": "display_data"
    },
    {
     "data": {
      "text/plain": [
       "None"
      ]
     },
     "metadata": {},
     "output_type": "display_data"
    }
   ],
   "source": [
    "# Run the view function. Note takes about 4 minutes to load video.\n",
    "display(stopButton)\n",
    "thread = threading.Thread(target = view, \n",
    "                          args = (stopButton,))\n",
    "thread.start()"
   ]
  },
  {
   "cell_type": "markdown",
   "id": "10792763-b2be-4d30-a5ec-bf78c342cdb5",
   "metadata": {},
   "source": [
    "### Camera Instance: in Notebook with Facial Bounding Box"
   ]
  },
  {
   "cell_type": "code",
   "execution_count": 5,
   "id": "e33f7355-08c8-4b3f-ab77-f2287ad7f72c",
   "metadata": {},
   "outputs": [],
   "source": [
    "# WebCam input with Stop button\n",
    "stopButton = widgets.ToggleButton(value = False,\n",
    "                                  description = 'Stop',\n",
    "                                  disabled = False,\n",
    "                                  button_style= 'danger', # 'success', 'info', 'warning', 'danger' or ''\n",
    "                                  tooltip = 'Description',\n",
    "                                  icon = 'square' # (FontAwesome names without the `fa-` prefix)\n",
    "                                 )\n",
    "\n",
    "# Display function\n",
    "def view_wfacebox(button):\n",
    "    capture = cv.VideoCapture(1) # Video capture object. Camera 0 is the integrated camera while 1 is USB Camera.\n",
    "\n",
    "    # Load the cascade\n",
    "    face_cascade = cv.CascadeClassifier(cv.data.haarcascades + 'haarcascade_frontalface_default.xml')\n",
    "    # Frame Width/Height can be commented out. Common resolutions: 1920x1080, 1600x900, 1280x800, 640x480.\n",
    "    capture.set(cv.CAP_PROP_FRAME_WIDTH, 640)\n",
    "    capture.set(cv.CAP_PROP_FRAME_HEIGHT, 480)\n",
    "    \n",
    "    display_handle = display(None, display_id=True)\n",
    "\n",
    "    #while True: # Both while statements seem to work.\n",
    "    while(capture.isOpened()):\n",
    "        _, frame = capture.read() # Reads and captures the image frame\n",
    "        frame = cv.flip(frame, 1) # Reverses image if webcam reverses\n",
    "        \n",
    "        # Convert to grayscale\n",
    "        gray = cv.cvtColor(frame, cv.COLOR_BGR2GRAY)\n",
    "        # Detect the faces\n",
    "        faces = face_cascade.detectMultiScale(gray, 1.1, 4)\n",
    "        # Draw the rectangle around each face\n",
    "        for (x, y, w, h) in faces:\n",
    "            cv.rectangle(frame, (x, y), (x+w, y+h), (255, 0, 0), 2)\n",
    "        \n",
    "        _, frame = cv.imencode('.jpeg', frame) # Reads frame from buffer in memory\n",
    "        display_handle.update(Image(data=frame.tobytes())) # Uses the Jupyter Notebook Display to show in Notebook.\n",
    "        if stopButton.value == True:\n",
    "            capture.release()\n",
    "            cv.destroyAllWindows()\n",
    "            display_handle.update(None)"
   ]
  },
  {
   "cell_type": "code",
   "execution_count": 6,
   "id": "bd14d3d0-3f03-4253-98dd-1e50d77a85ed",
   "metadata": {},
   "outputs": [
    {
     "data": {
      "application/vnd.jupyter.widget-view+json": {
       "model_id": "9be6965f2b7b46bb9c253ebb15ebf0b4",
       "version_major": 2,
       "version_minor": 0
      },
      "text/plain": [
       "ToggleButton(value=False, button_style='danger', description='Stop', icon='square', tooltip='Description')"
      ]
     },
     "metadata": {},
     "output_type": "display_data"
    },
    {
     "data": {
      "text/plain": [
       "None"
      ]
     },
     "metadata": {},
     "output_type": "display_data"
    }
   ],
   "source": [
    "# Run the view function. Note takes about 4 minutes to load video.\n",
    "display(stopButton)\n",
    "thread = threading.Thread(target = view_wfacebox, \n",
    "                          args = (stopButton,))\n",
    "thread.start()"
   ]
  },
  {
   "cell_type": "markdown",
   "id": "a357de4c-89f0-4ed2-b928-07b0a5a22825",
   "metadata": {},
   "source": [
    "### Camera Instance: New Window"
   ]
  },
  {
   "cell_type": "code",
   "execution_count": 7,
   "id": "475cb767-ffe0-4100-91e3-fa7e5a93679e",
   "metadata": {},
   "outputs": [],
   "source": [
    "# Note takes about 5 minutes to load image in new window.\n",
    "\n",
    "capture = cv.VideoCapture(1) # Video capture object. Camera 0 is the integrated camera while 1 is USB Camera.\n",
    "# Frame Width/Height can be commented out. Common resolutions: 1920x1080, 1600x900, 1280x800, 640x480.\n",
    "capture.set(cv.CAP_PROP_FRAME_WIDTH, 1280) \n",
    "capture.set(cv.CAP_PROP_FRAME_HEIGHT, 800)\n",
    "\n",
    "while(capture.isOpened()):\n",
    "    _, frame = capture.read() # Reads and captures the image frame\n",
    "    \n",
    "    cv.imshow('Camera Video', frame) # Display in new window\n",
    "    \n",
    "    key = cv.waitKey(30) & 0xff # Reads keys every defined milliseconds to enter break below on key press\n",
    "    if key & 0xFF == ord('q') or key == 27 or 'x' == chr(key & 255): # To exit, press q, x, or ESC.\n",
    "        break\n",
    "        \n",
    "# Release the VideoCapture object\n",
    "capture.release()\n",
    "cv.destroyAllWindows()"
   ]
  },
  {
   "cell_type": "markdown",
   "id": "e155259e-cfa2-464f-b356-bfebdb0a03e3",
   "metadata": {},
   "source": [
    "### Camera Instance: New Window with Facial Bounding Box"
   ]
  },
  {
   "cell_type": "code",
   "execution_count": 8,
   "id": "df95c1c9-5acd-447c-a27c-970ba357489b",
   "metadata": {},
   "outputs": [],
   "source": [
    "capture = cv.VideoCapture(1) # Video capture object. Camera 0 is the integrated camera while 1 is USB Camera.\n",
    "\n",
    "# Load the cascade\n",
    "face_cascade = cv.CascadeClassifier(cv.data.haarcascades + 'haarcascade_frontalface_default.xml')\n",
    "\n",
    "# Frame Width/Height can be commented out. Common resolutions: 1920x1080, 1600x900, 1280x800, 640x480.\n",
    "capture.set(cv.CAP_PROP_FRAME_WIDTH, 640)\n",
    "capture.set(cv.CAP_PROP_FRAME_HEIGHT, 480)\n",
    "\n",
    "while(capture.isOpened()):\n",
    "    # Read the frame\n",
    "    _, frame = capture.read()\n",
    "\n",
    "    # Convert to grayscale\n",
    "    gray = cv.cvtColor(frame, cv.COLOR_BGR2GRAY)\n",
    "\n",
    "    # Detect the faces\n",
    "    faces = face_cascade.detectMultiScale(gray, 1.1, 4)\n",
    "\n",
    "    # Draw the rectangle around each face\n",
    "    for (x, y, w, h) in faces:\n",
    "        cv.rectangle(frame, (x, y), (x+w, y+h), (255, 0, 0), 2)\n",
    "\n",
    "    # Display\n",
    "    cv.imshow('Camera Video', frame)\n",
    "\n",
    "    key = cv.waitKey(30) & 0xff # Reads keys every defined milliseconds to enter break below on key press\n",
    "    if key & 0xFF == ord('q') or key == 27 or 'x' == chr(key & 255): # To exit, press q, x, or ESC.\n",
    "        break\n",
    "        \n",
    "# Release the VideoCapture object\n",
    "capture.release()\n",
    "cv.destroyAllWindows()"
   ]
  },
  {
   "cell_type": "markdown",
   "id": "f27914d8-ea1d-4dcd-b313-c07b3bbb08ff",
   "metadata": {},
   "source": [
    "# NOTEBOOK END"
   ]
  },
  {
   "cell_type": "code",
   "execution_count": null,
   "id": "b72b186d-0570-4483-8bba-d7e8ed3f766c",
   "metadata": {},
   "outputs": [],
   "source": []
  },
  {
   "cell_type": "code",
   "execution_count": null,
   "id": "dca2a61d-7b84-4c55-b0a8-827a9ee7b9b1",
   "metadata": {},
   "outputs": [],
   "source": []
  },
  {
   "cell_type": "code",
   "execution_count": null,
   "id": "9fecb12f-0466-49d9-aabe-c6c0975b0ec3",
   "metadata": {},
   "outputs": [],
   "source": []
  },
  {
   "cell_type": "code",
   "execution_count": null,
   "id": "ca5237e3-5ea9-4034-acb1-84ae482a5b36",
   "metadata": {},
   "outputs": [],
   "source": []
  },
  {
   "cell_type": "code",
   "execution_count": null,
   "id": "fbcb897c-89f8-4e89-b6a1-3a4f2e9e2dd3",
   "metadata": {},
   "outputs": [],
   "source": []
  },
  {
   "cell_type": "code",
   "execution_count": null,
   "id": "0ad4d647-2c4f-47b0-8666-83f45d175cc6",
   "metadata": {},
   "outputs": [],
   "source": []
  },
  {
   "cell_type": "code",
   "execution_count": null,
   "id": "1ed60775-2c1b-4ebe-9fc7-5794a2a81bd7",
   "metadata": {},
   "outputs": [],
   "source": []
  },
  {
   "cell_type": "code",
   "execution_count": null,
   "id": "6923bb00-03e6-43e0-b320-f3134ff57726",
   "metadata": {},
   "outputs": [],
   "source": []
  },
  {
   "cell_type": "code",
   "execution_count": null,
   "id": "5fe322ce-692d-4134-9396-4f8ca68a24a8",
   "metadata": {},
   "outputs": [],
   "source": []
  },
  {
   "cell_type": "code",
   "execution_count": null,
   "id": "7c6a0946-581d-49d8-902a-74d2b9cff3ab",
   "metadata": {},
   "outputs": [],
   "source": []
  },
  {
   "cell_type": "code",
   "execution_count": null,
   "id": "58587262-cea7-453c-83a4-3643e9455799",
   "metadata": {},
   "outputs": [],
   "source": []
  },
  {
   "cell_type": "code",
   "execution_count": null,
   "id": "b7eda5e2-312d-4f19-9a1a-04e388c58d14",
   "metadata": {},
   "outputs": [],
   "source": []
  },
  {
   "cell_type": "code",
   "execution_count": null,
   "id": "54805535-2bf9-4609-b60f-1cc57bf033c1",
   "metadata": {},
   "outputs": [],
   "source": []
  },
  {
   "cell_type": "code",
   "execution_count": null,
   "id": "09b4b5f0-8fc9-4dde-87ba-81f80adb09b8",
   "metadata": {},
   "outputs": [],
   "source": []
  },
  {
   "cell_type": "code",
   "execution_count": null,
   "id": "2e6acb9c-0599-4d06-a7b0-54467ab65134",
   "metadata": {},
   "outputs": [],
   "source": []
  },
  {
   "cell_type": "code",
   "execution_count": null,
   "id": "86e4d3ff-0f84-45ce-a354-fb8bbf05ccc5",
   "metadata": {},
   "outputs": [],
   "source": []
  },
  {
   "cell_type": "code",
   "execution_count": null,
   "id": "7b56db8e-ea34-4256-9c6e-787b495ce7c9",
   "metadata": {},
   "outputs": [],
   "source": []
  },
  {
   "cell_type": "code",
   "execution_count": null,
   "id": "80574b4b-2d93-42bf-9f20-cd0180e5dc4e",
   "metadata": {},
   "outputs": [],
   "source": []
  }
 ],
 "metadata": {
  "kernelspec": {
   "display_name": "Python 3 (ipykernel)",
   "language": "python",
   "name": "python3"
  },
  "language_info": {
   "codemirror_mode": {
    "name": "ipython",
    "version": 3
   },
   "file_extension": ".py",
   "mimetype": "text/x-python",
   "name": "python",
   "nbconvert_exporter": "python",
   "pygments_lexer": "ipython3",
   "version": "3.12.4"
  }
 },
 "nbformat": 4,
 "nbformat_minor": 5
}
