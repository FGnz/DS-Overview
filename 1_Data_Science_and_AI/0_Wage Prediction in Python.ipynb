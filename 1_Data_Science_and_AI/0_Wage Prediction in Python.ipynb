{
 "cells": [
  {
   "cell_type": "markdown",
   "id": "23f8b03c-fabd-4193-b542-c176a333a0f1",
   "metadata": {},
   "source": [
    "# Wage Prediction Example in Python\n",
    "\n",
    "In this example we will use the Wage data, perform some exploratory data analysis in Python and then use the same methods that we used in the Excel spreadsheet to predict and forecast wage given the educational level and years of experience."
   ]
  },
  {
   "cell_type": "code",
   "execution_count": null,
   "id": "7782932e-ed45-45cb-b158-702aae11483e",
   "metadata": {},
   "outputs": [],
   "source": [
    "import numpy as np\n",
    "import matplotlib.pyplot as plt \n",
    "import pandas as pd  \n",
    "import seaborn as sns \n",
    "%matplotlib inline\n",
    "from numpy.linalg import inv\n",
    "import scipy\n",
    "#import scipy.odr as odr\n",
    "\n",
    "# For linear regression, we will need\n",
    "from sklearn.linear_model import LinearRegression\n",
    "from sklearn.metrics import mean_squared_error\n",
    "from sklearn.metrics import r2_score\n",
    "from sklearn.preprocessing import PolynomialFeatures\n",
    "from sklearn.pipeline import make_pipeline\n",
    "\n",
    "import ipywidgets as widgets\n",
    "from IPython.display import display, HTML\n",
    "from ipywidgets import interact_manual"
   ]
  },
  {
   "cell_type": "code",
   "execution_count": null,
   "id": "9537c546-ab39-40f6-ae5a-123cf99980f9",
   "metadata": {},
   "outputs": [],
   "source": [
    "# Read the data in the link.\n",
    "df = pd.read_excel(\"./input_data/Wage.xlsx\",\n",
    "                   sheet_name = 'Wage_Data',\n",
    "                   header = 1)\n",
    "df.head()"
   ]
  },
  {
   "cell_type": "code",
   "execution_count": null,
   "id": "5e477283-7ba6-4db8-9718-b7c9800df44a",
   "metadata": {},
   "outputs": [],
   "source": [
    "sns.pairplot(df[['year', 'age', 'wage', 'est_education_yrs', 'est_experience']],\n",
    "            diag_kind = 'kde' # 'hist' or 'kde'\n",
    "            );"
   ]
  },
  {
   "cell_type": "markdown",
   "id": "f6f1c1c2-c005-4499-9660-cb20a6751872",
   "metadata": {},
   "source": [
    "Notes and Observations:\n",
    "- A few of the histograms show what we want to see. The age and Estimated experience are close to Normal distributions. The wage there seems to be gap but would have preferred something close to a Noarmal distribution as well. A normal distribution would follow typical population distribution.\n",
    "- Age and estimated experience is linearly related to estimated experience. Note that there were a few assumptions on the estimated experience and the dataset does not seem to consider retirement which would flatten the estimated experience at some point."
   ]
  },
  {
   "cell_type": "code",
   "execution_count": null,
   "id": "f3aee1c5-db64-4101-a56a-b35b680d3162",
   "metadata": {},
   "outputs": [],
   "source": [
    "%%time\n",
    "sns.pairplot(df[['year', 'age', 'wage', 'est_education_yrs', 'est_experience', 'education']],\n",
    "            diag_kind = 'kde', # 'hist' or 'kde'\n",
    "            hue = 'education'\n",
    "            );"
   ]
  },
  {
   "cell_type": "markdown",
   "id": "1ce040d8-c382-445d-a80f-7ac291d0828f",
   "metadata": {},
   "source": [
    "Notes and Observations:\n",
    "- We can now observe the distributions by Education level.\n",
    "- It is expected that as eductaion increases so would age which can be seen in many of the KDE Plots.\n",
    "- The plot for Estimated Experience vs. Age seems to show each Education path is linearly related which is expected given the assumptions to calculate the estimated experience. \n",
    "- The KDE for Age, Wage, and Estimated Experience seem to follow expected distributions."
   ]
  },
  {
   "cell_type": "markdown",
   "id": "d83d1886-57b9-417b-954b-f4dff78ef870",
   "metadata": {},
   "source": [
    "# Averages by Education and Estimated Experience"
   ]
  },
  {
   "cell_type": "code",
   "execution_count": null,
   "id": "685fb5d9-f2a0-4a0f-8f32-3a4712449aa3",
   "metadata": {},
   "outputs": [],
   "source": [
    "# Average wage by estimated experience.\n",
    "df_avg_educ = df.groupby(['education', 'est_experience'])['wage'].mean().reset_index()\n",
    "df_avg_educ.head()"
   ]
  },
  {
   "cell_type": "code",
   "execution_count": null,
   "id": "f31e37cd-4b9a-4cf2-b185-ff7700dfacd5",
   "metadata": {},
   "outputs": [],
   "source": [
    "%%time\n",
    "sns.pairplot(df_avg_educ,\n",
    "            diag_kind = 'kde', # 'hist' or 'kde'\n",
    "            hue = 'education'\n",
    "            );"
   ]
  },
  {
   "cell_type": "markdown",
   "id": "e9546b28-70c2-4904-a302-8657f55b50eb",
   "metadata": {},
   "source": [
    "# Average Wage by Estimated Experience"
   ]
  },
  {
   "cell_type": "code",
   "execution_count": null,
   "id": "edd21db6-3dd3-47ff-8651-f2c08e09dce4",
   "metadata": {},
   "outputs": [],
   "source": [
    "# Average wage by estimated experience.\n",
    "df_avg = df.groupby(['est_experience'])['wage'].mean().reset_index()\n",
    "df_avg.head()"
   ]
  },
  {
   "cell_type": "markdown",
   "id": "0a135ab5-1e16-4e57-9891-7b23fa3c43c5",
   "metadata": {},
   "source": [
    "### Linear Regression"
   ]
  },
  {
   "cell_type": "code",
   "execution_count": null,
   "id": "2b6d4b2f-d296-4d74-91e2-ce3cb20643c0",
   "metadata": {},
   "outputs": [],
   "source": [
    "p = sns.regplot(data= df_avg, \n",
    "            x=\"est_experience\", y=\"wage\", line_kws=dict(color=\"r\"))\n",
    "# Adjusts the axis limits to start at 0.\n",
    "plt.xlim(0) \n",
    "plt.ylim(0)\n",
    "\n",
    "# Calculates the slope and intercept from the SNS regression line using SciPy.\n",
    "slope, intercept, r_value, p_value, std_err = scipy.stats.linregress(x=p.get_lines()[0].get_xdata(),\n",
    "                                                       y=p.get_lines()[0].get_ydata())\n",
    "# Calculates r_value on the fitted data.\n",
    "r_value, p_value = scipy.stats.pearsonr(x = df_avg['est_experience'],\n",
    "                                        y = df_avg['wage'])\n",
    "r2_value = r_value**2\n",
    "\n",
    "# Print 2nd order olynomial equation and r2 value\n",
    "print('y = ' + str(round(intercept,2)) + ' + ' + str(round(slope,2)) + 'x')\n",
    "print(f\"R2 = {round(r2_value, 4)}\")"
   ]
  },
  {
   "cell_type": "markdown",
   "id": "bb3b8d2a-6ea2-4413-99c3-6e42770a36d4",
   "metadata": {},
   "source": [
    "### Polynomial Order of 2 Regression "
   ]
  },
  {
   "cell_type": "code",
   "execution_count": null,
   "id": "f9f81594-21be-415f-9df1-afa070bb7e18",
   "metadata": {},
   "outputs": [],
   "source": [
    "p = sns.regplot(data= df_avg, \n",
    "                x=\"est_experience\", y=\"wage\",\n",
    "                order = 2, line_kws=dict(color=\"r\"))\n",
    "\n",
    "# Adjusts the axis limits to start at 0.\n",
    "plt.xlim(0)\n",
    "plt.ylim(0)\n",
    "\n",
    "# Sample data\n",
    "x = np.array(df_avg[\"est_experience\"]).reshape(-1, 1)\n",
    "y = np.array(df_avg[\"wage\"])\n",
    "\n",
    "poly = PolynomialFeatures(degree=2) # Create polynomial second degree features\n",
    "x_poly = poly.fit_transform(x)\n",
    "\n",
    "model = LinearRegression() # Model used\n",
    "model.fit(x_poly, y) # Fit the model\n",
    "\n",
    "# Predict new values\n",
    "x_new = np.array([6]).reshape(-1, 1)\n",
    "x_new_poly = poly.transform(x_new)\n",
    "y_pred = model.predict(x_new_poly)\n",
    "\n",
    "coeff = np.array([model.intercept_, model.coef_[1], model.coef_[2]]) # Model Coefficients\n",
    "\n",
    "#R2 Value Calculation\n",
    "def quadratic(coeff, x): # For each X returns the predicted y. \n",
    "    return coeff[0] + coeff[1]*x + coeff[2]*x**2\n",
    "\n",
    "# Calculate predicted values using the fitted coefficients\n",
    "y_pred = quadratic(coeff, x = df_avg['est_experience'])\n",
    "# Calculate R-squared\n",
    "y_mean = np.mean(df_avg['wage'])\n",
    "SS_tot = np.sum((df_avg['wage'] - y_mean)**2)\n",
    "SS_res = np.sum((df_avg['wage'] - y_pred)**2)\n",
    "r_squared = 1 - (SS_res/SS_tot)\n",
    "\n",
    "# Print 2nd order olynomial equation and r2 value\n",
    "print(f\"y = {round(coeff[2], 3)}x^2 + {round(coeff[1], 3)}x + {round(coeff[0], 3)}\")\n",
    "print(f\"R2 = {round(r_squared, 2)}\")"
   ]
  },
  {
   "cell_type": "markdown",
   "id": "f75d0cba-1921-456c-b0f7-cf2df1fb244e",
   "metadata": {},
   "source": [
    "Note the difference between MS Excel 2nd order Polynomial regression and Python 2nd order Polynomial regression which  may be due to differen calculation methods. Also challenging is the fact that each Python library has its own capabilities. While sns.regplot makes it very easy to plot the Order 2 Polynomial Regression it does not provide the equation nor R2 values. This makes us having to rely on another library for obtaining the coefficient, equation, and R2 value."
   ]
  },
  {
   "cell_type": "markdown",
   "id": "504e6730-fe12-41e9-b86f-77569ba916a0",
   "metadata": {},
   "source": [
    "# Wage Prediction"
   ]
  },
  {
   "cell_type": "code",
   "execution_count": null,
   "id": "520e7da7-eef0-4682-9605-1e6826a22dd3",
   "metadata": {},
   "outputs": [],
   "source": [
    "def wage_prediction(experience_inyrs, model_type):\n",
    "    global predicted_wage\n",
    "    if model_type == \"Linear\":\n",
    "        # Remember the Linear regression equation from the data: y = 105.74 + -0.06x\n",
    "        predicted_wage = 105.74 + -0.06*experience_inyrs\n",
    "    else: # Else uses the Polynomial order of 2.\n",
    "        # Remember the polynomial order 2 regression equation from the data: y = -0.05x^2 + 3.312x + 65.305\n",
    "        predicted_wage = -0.05*(experience_inyrs)**2 + 3.312*(experience_inyrs) + 65.305"
   ]
  },
  {
   "cell_type": "code",
   "execution_count": null,
   "id": "866cea0c-1019-4d5a-9776-e09b5df59f31",
   "metadata": {},
   "outputs": [],
   "source": [
    "experience_inyrs = float(input(prompt = \"Estimated experience in years as a float.\"))\n",
    "model_type = input(prompt = \"Model Type: Linear or Poly?\") # For Model change to \"Linear\" or \"Poly\"\n",
    "wage_prediction(experience_inyrs = experience_inyrs, model_type = model_type)\n",
    "print(f\"Predicted wage for {experience_inyrs} years of experience is: ${int(1000*(predicted_wage))} per year.\")"
   ]
  },
  {
   "cell_type": "markdown",
   "id": "d3a9e61d-cf92-4399-92ea-a80caac3d58d",
   "metadata": {},
   "source": [
    "Notes and Questions:\n",
    "- From the R2 value, which model was a better fit to the data?\n",
    "- What happens if we put 150 as estimated experience in years?\n",
    "- Does the data or model have any limits?\n",
    "\n",
    "Other notes:\n",
    "- Recall that this is only predicted for the average wage regardless of the education.\n",
    "- To take into account educations there may be various approaches we need to create a multi-variable regression model/equation or one model/equation for each education level."
   ]
  },
  {
   "cell_type": "markdown",
   "id": "13e1e838-22cc-46b9-a098-b95535839c04",
   "metadata": {},
   "source": [
    "### Wage Prediction Alternative Approach\n",
    "\n",
    "Instead of defining the equation in the function, this approach utilizes the SKLearn Regression function to do both caclulate and predict both in the same function. This approach would allow us to automatically update the data (assuming that we can get new data) and calculate the wage prediction given years of experience and LR or Polynomial O2 regression. "
   ]
  },
  {
   "cell_type": "code",
   "execution_count": null,
   "id": "c22460a4-b10c-4243-87d2-a524fe6ea1ce",
   "metadata": {},
   "outputs": [],
   "source": [
    "def wage_prediction_alt(experience_inyrs, model_type):\n",
    "    global predicted_wage, model_eq_names, model_coefficients, model_intercept\n",
    "    X = df_avg[['est_experience']].to_numpy()\n",
    "    y = df_avg['wage'].to_numpy()\n",
    "    \n",
    "    if model_type == \"Linear\": \n",
    "        model = make_pipeline(PolynomialFeatures(degree=1), LinearRegression())  # LinearRegression Function from SKLearn\n",
    "        #model = LinearRegression() # LinearRegression Function from SKLearn\n",
    "    else: \n",
    "        model = make_pipeline(PolynomialFeatures(degree=2), LinearRegression()) # PolynomialRegression Function from SKLearn\n",
    "                \n",
    "    model.fit(X, y) # Fit model to data.\n",
    "    predicted_wage = model.predict(np.array([[experience_inyrs]]))\n",
    "\n",
    "    model_eq_names = model.steps[0][1].get_feature_names_out()\n",
    "    model_coefficients = model.steps[1][1].coef_\n",
    "    model_intercept = model.steps[1][1].intercept_"
   ]
  },
  {
   "cell_type": "code",
   "execution_count": null,
   "id": "a885115f-113e-47e4-963f-b352a92a3050",
   "metadata": {},
   "outputs": [],
   "source": [
    "experience_inyrs = float(input(prompt = \"Estimated experience in years as a float.\"))\n",
    "model_type = input(prompt = \"Model Type: Linear or Poly?\") # For Model change to \"Linear\" or \"Poly\"\n",
    "wage_prediction_alt(experience_inyrs = experience_inyrs, model_type = model_type) \n",
    "print(f\"Predicted wage for {experience_inyrs} years of experience is: ${int(1000*(predicted_wage)[0])} per year.\")\n",
    "print(f\"Equation Coefficient Names: {model_eq_names}\")\n",
    "print(f\"Coefficients:\", model_coefficients)\n",
    "print(f\"Intercept: \", model_intercept)"
   ]
  },
  {
   "cell_type": "markdown",
   "id": "af850793-783c-4cae-be3e-e4ad4717771f",
   "metadata": {},
   "source": [
    "# Wage Prediction with Education Level\n",
    "\n",
    "When predicting with education level, we need to consider that the education level is represented in two ways. 1. As initially in a categorical form (e.g., <High School, High School, etc.) or numerical in estimated education years. Note that there were various assumptions that went with the estimated education in years. Using each may produce slight differences in how a regression model predicts wages. In any case both need to be converted into a numerical form. Either using the integer of the categorical values such as <High School is 1, High School is 2, etc. or using the numerical values of the estimated education years."
   ]
  },
  {
   "cell_type": "code",
   "execution_count": null,
   "id": "d8b29d6a-02e5-401a-b74e-b571c454e384",
   "metadata": {},
   "outputs": [],
   "source": [
    "# Average wage by estimated experience and education level.\n",
    "df_avg = df.groupby(['education', 'est_experience'])['wage'].mean().reset_index()\n",
    "# Updating the education level to an integer if needed.\n",
    "#df_avg['education'] = df_avg['education'].str.split('.').str[0].astype(int)\n",
    "df_avg.sample(3)"
   ]
  },
  {
   "cell_type": "markdown",
   "id": "db1551f2-4460-4a05-9c8a-018d48b668a5",
   "metadata": {},
   "source": [
    "We will use the estimated education years."
   ]
  },
  {
   "cell_type": "code",
   "execution_count": null,
   "id": "e3d1e104-34f6-4a7e-b03a-bffc31125335",
   "metadata": {},
   "outputs": [],
   "source": [
    "# This plot shows all polynomial order 2 regressiosn for each education level and average wages by years of experience. \n",
    "p = sns.FacetGrid(data = df_avg, height = 10, hue = 'education');\n",
    "p.map(plt.scatter, \"est_experience\", \"wage\", s=50, alpha=.7, linewidth=.5, edgecolor=\"white\")\n",
    "p.map(sns.regplot, \"est_experience\", \"wage\", order = 2)\n",
    "p.add_legend();\n",
    "\n",
    "# Adjusts the axis limits to start at 0.\n",
    "plt.xlim(0);\n",
    "plt.ylim(0);"
   ]
  },
  {
   "cell_type": "markdown",
   "id": "0ad70efd-3e56-480e-9c8b-b92574ca8849",
   "metadata": {},
   "source": [
    "Notes and Questions:\n",
    "- Do we expect the R2 value for the different type of regressions to be the same for each education level?\n",
    "- Which model is expected to be a better fit to the data?\n",
    "- What happens if we put 150 as estimated experience in years?\n",
    "- Does the data or model have any limits?"
   ]
  },
  {
   "cell_type": "markdown",
   "id": "e8dbbcc6-b8f5-4037-bc61-be32260e1c69",
   "metadata": {},
   "source": [
    "# Wage Prediction\n",
    "Wage prediction could be performed using multiple approaches.\n",
    "1. Because the Education is a categorical value, we can develop a polynomial regression for each level of education.\n",
    "2. The dataset assumed a number of estimated education years for each categorical level. We could use this estimate to create a multiple variable regression. However, due to the assumption on estimated education years per education level it is expected that this approach potentially has a higher level of uncertainty."
   ]
  },
  {
   "cell_type": "markdown",
   "id": "441c4682-316b-4c7f-b4a0-7693ac180053",
   "metadata": {},
   "source": [
    "### Wage Prediction: Regression Per Education Level using a Widget"
   ]
  },
  {
   "cell_type": "code",
   "execution_count": null,
   "id": "d5ce208c-3834-451f-b40c-71b64287e62e",
   "metadata": {},
   "outputs": [],
   "source": [
    "# Filter data first on education level then sthe regression as we did prior.\n",
    "# Calculate R2 value?"
   ]
  },
  {
   "cell_type": "code",
   "execution_count": null,
   "id": "5e7a4b5a-a2c6-434c-8b8b-09bd92cf1952",
   "metadata": {},
   "outputs": [],
   "source": [
    "# Average wage by estimated experience and education level.\n",
    "df_avg = df.groupby(['education', 'est_experience'])['wage'].mean().reset_index()\n",
    "df_avg.sample(3)"
   ]
  },
  {
   "cell_type": "code",
   "execution_count": null,
   "id": "07a8a80e-b3dc-49c0-b2be-82057a63b69f",
   "metadata": {},
   "outputs": [],
   "source": [
    "def education_wage_prediction(education_filter, new_est_experience):\n",
    "    df_avg_filtered = df_avg[df_avg['education'] == education_filter].reset_index(drop = True).copy()\n",
    "\n",
    "    p = sns.regplot(data= df_avg_filtered, \n",
    "                    x=\"est_experience\", \n",
    "                    y=\"wage\", \n",
    "                    order = 2, line_kws=dict(color=\"r\"))\n",
    "    # Adjusts the axis limits to start at 0.\n",
    "    plt.xlim(0)\n",
    "    plt.ylim(0)\n",
    "    plt.title(f\"Wage Plot for Education Level of {education_filter}\")\n",
    "\n",
    "    # Sample data\n",
    "    x = np.array(df_avg_filtered[\"est_experience\"]).reshape(-1, 1)\n",
    "    y = np.array(df_avg_filtered[\"wage\"])\n",
    "\n",
    "    poly = PolynomialFeatures(degree=2) # Create polynomial second degree features\n",
    "    x_poly = poly.fit_transform(x)\n",
    "\n",
    "    model = LinearRegression() # Model used\n",
    "    model.fit(x_poly, y) # Fit the model\n",
    "\n",
    "    # Predict new values\n",
    "    x_new = np.array([6]).reshape(-1, 1)\n",
    "    x_new_poly = poly.transform(x_new)\n",
    "    y_pred = model.predict(x_new_poly)\n",
    "\n",
    "    coeff = np.array([model.intercept_, model.coef_[1], model.coef_[2]]) # Model Coefficients\n",
    "    \n",
    "    #R2 Value Calculation\n",
    "    def quadratic(coeff, x): # For each X returns the predicted y\n",
    "        return coeff[0] + coeff[1]*x + coeff[2]*x**2\n",
    "\n",
    "    # Calculate predicted values using the fitted coefficients\n",
    "    y_pred = quadratic(coeff, x = df_avg['est_experience'])\n",
    "    # Calculate R-squared\n",
    "    y_mean = np.mean(df_avg['wage'])\n",
    "    SS_tot = np.sum((df_avg['wage'] - y_mean)**2)\n",
    "    SS_res = np.sum((df_avg['wage'] - y_pred)**2)\n",
    "    r_squared = 1 - (SS_res/SS_tot)\n",
    "   \n",
    "    # Print 2nd order olynomial equation and r2 value\n",
    "    print(f\"y = {round(coeff[2], 3)}x^2 + {round(coeff[1], 3)}x + {round(coeff[0], 3)}\")\n",
    "    print(f\"R2 = {round(r_squared, 2)}\")\n",
    "\n",
    "    # Wage Prediction\n",
    "    wage_predicted = coeff[2]*(new_est_experience)**2 + coeff[1]*new_est_experience + round(coeff[0])\n",
    "    print(f\"Predicted wage for {experience_inyrs} years of experience is: ${int(1000*(wage_predicted))} per year.\")\n",
    "\n",
    "    plt.plot(new_est_experience, # Coordinate of X\n",
    "             wage_predicted, # Coordinate of Y\n",
    "             marker='x', linestyle='none', color='black', markersize=10, markeredgewidth=3)\n",
    "    plt.show();"
   ]
  },
  {
   "cell_type": "code",
   "execution_count": null,
   "id": "9dee4b95-4c35-4c9e-9b4c-57320f8093b1",
   "metadata": {},
   "outputs": [],
   "source": [
    "#list(df_avg['education'].unique())"
   ]
  },
  {
   "cell_type": "code",
   "execution_count": null,
   "id": "2895c28e-eaf5-4a57-922a-d5c40f7ecccc",
   "metadata": {},
   "outputs": [],
   "source": [
    "education_wage_prediction(education_filter = df_avg['education'].unique()[0],\n",
    "                          new_est_experience = 10)\n",
    "# NEED TO FIX AS NOT PREDICTING and UPDATE TITLES OF EDUCATION BEING USED."
   ]
  },
  {
   "cell_type": "markdown",
   "id": "2f18beaa-1c9c-4025-a6e2-2316c7e69b1d",
   "metadata": {},
   "source": [
    "### Widget"
   ]
  },
  {
   "cell_type": "code",
   "execution_count": null,
   "id": "9437e90c-c732-4146-a99a-279f3df46355",
   "metadata": {},
   "outputs": [],
   "source": [
    "# PRIMARY WIDGET OPTIONS\n",
    "display(HTML(f'<h3>WIDGET: Second Order Polynomial Regression Wage Prediction<h3>'))\n",
    "\n",
    "_ = interact_manual(education_wage_prediction, # \"filter_data\" is the main function while \"TEST_filter_data\" is for testing widget outputs.\n",
    "                    education_filter = widgets.Dropdown(options=list(df_avg['education'].unique()),\n",
    "                                                         value = '1. < HS Grad',\n",
    "                                                         description='Education Level',\n",
    "                                                         disabled=False, \n",
    "                                                         style={'description_width': 'initial'}),   \n",
    "                     new_est_experience = widgets.IntSlider(value = 5,\n",
    "                                                           min = 0,\n",
    "                                                           max = 100,\n",
    "                                                           step = 1,\n",
    "                                                           description='Years of Experience', disabled=False,\n",
    "                                                           continuous_update=False,\n",
    "                                                           orientation='horizontal',\n",
    "                                                           readout=True,\n",
    "                                                           readout_format='d',\n",
    "                                                           style = {'description_width': 'initial'},\n",
    "                                                           layout = widgets.Layout(width='50%'))\n",
    "                   )"
   ]
  },
  {
   "cell_type": "markdown",
   "id": "a014a920-19e6-45e5-8851-f34a03c1275a",
   "metadata": {},
   "source": [
    "### Wage Prediction: Multiple Variable Regression"
   ]
  },
  {
   "cell_type": "code",
   "execution_count": null,
   "id": "42e625cd-f570-432f-90cc-6ac00af3347c",
   "metadata": {},
   "outputs": [],
   "source": [
    "# Average wage by estimated experience and education level. Education level is transformed ot a numerical value.\n",
    "df_avg = df.groupby(['est_education_yrs', 'est_experience'])['wage'].mean().reset_index()\n",
    "df_avg.sample(3)"
   ]
  },
  {
   "cell_type": "code",
   "execution_count": null,
   "id": "bf73562e-9a3c-4599-8277-ade7f65a8c8a",
   "metadata": {},
   "outputs": [],
   "source": [
    "X = df_avg[['est_education_yrs', 'est_experience']].to_numpy()\n",
    "y = df_avg['wage'].to_numpy()\n",
    "model = make_pipeline(PolynomialFeatures(degree=2), LinearRegression()) # Create polynomial order of 2 regression model.\n",
    "model.fit(X, y) # Fit model to data."
   ]
  },
  {
   "cell_type": "code",
   "execution_count": null,
   "id": "a13437a1-8143-45f2-b1d0-906417c6b946",
   "metadata": {},
   "outputs": [],
   "source": [
    "# Example prediction\n",
    "Xnew_education = 10\n",
    "Xnew_estexperience = 1\n",
    "y_pred = model.predict(np.array([[Xnew_education, Xnew_estexperience]]))\n",
    "print(f\"Predicted value: {y_pred}\")"
   ]
  },
  {
   "cell_type": "code",
   "execution_count": null,
   "id": "4dd4164b-ea25-4374-9ab4-5001b83da0b1",
   "metadata": {},
   "outputs": [],
   "source": [
    "# Multi-Polynomial Regression Equation\n",
    "print(f\"Equation Coefficient Names: {model.steps[0][1].get_feature_names_out()}\")\n",
    "print(f\"Coefficients:\", model.steps[1][1].coef_)\n",
    "print(f\"Intercept: \", model.steps[1][1].intercept_)"
   ]
  },
  {
   "cell_type": "code",
   "execution_count": null,
   "id": "65d12353-fc8a-4f24-b03a-aaf838e0257d",
   "metadata": {},
   "outputs": [],
   "source": [
    "def predict_mult_var_reg(Xnew_education, Xnew_estexperience):\n",
    "    predicted_wage = model.predict(np.array([[Xnew_education, Xnew_estexperience]]))[0]\n",
    "    return print(f\"Predicted wage is: ${int(1000*predicted_wage)}K.\")"
   ]
  },
  {
   "cell_type": "code",
   "execution_count": null,
   "id": "2b24ff1d-77aa-44c4-97c1-9f64642595ad",
   "metadata": {},
   "outputs": [],
   "source": [
    "# PRIMARY WIDGET OPTIONS\n",
    "display(HTML(f'<h3>WIDGET: Multiple Variable Linear Regression Wage Prediction<h3>'))\n",
    "\n",
    "_ = interact_manual(predict_mult_var_reg, # \"filter_data\" is the main function while \"TEST_filter_data\" is for testing widget outputs.\n",
    "                    Xnew_education = widgets.IntSlider(value = 5,\n",
    "                                                           min = 0,\n",
    "                                                           max = 100,\n",
    "                                                           step = 1,\n",
    "                                                           description='Years of Education', disabled=False,\n",
    "                                                           continuous_update=False,\n",
    "                                                           orientation='horizontal',\n",
    "                                                           readout=True,\n",
    "                                                           readout_format='d',\n",
    "                                                           style = {'description_width': 'initial'},\n",
    "                                                           layout = widgets.Layout(width='50%')),\n",
    "                    Xnew_estexperience = widgets.IntSlider(value = 5,\n",
    "                                                           min = 0,\n",
    "                                                           max = 100,\n",
    "                                                           step = 1,\n",
    "                                                           description='Years of Experience', disabled=False,\n",
    "                                                           continuous_update=False,\n",
    "                                                           orientation='horizontal',\n",
    "                                                           readout=True,\n",
    "                                                           readout_format='d',\n",
    "                                                           style = {'description_width': 'initial'},\n",
    "                                                           layout = widgets.Layout(width='50%')))"
   ]
  },
  {
   "cell_type": "markdown",
   "id": "b0674044-9a6b-485c-b958-9428f463834a",
   "metadata": {},
   "source": [
    "# NOTEBOOK END"
   ]
  },
  {
   "cell_type": "code",
   "execution_count": null,
   "id": "86c0d3c3-6697-4f68-b25c-60b928ed8bbf",
   "metadata": {},
   "outputs": [],
   "source": []
  },
  {
   "cell_type": "code",
   "execution_count": null,
   "id": "13e2ce70-327b-44c1-bf31-20e6e8cbfa87",
   "metadata": {},
   "outputs": [],
   "source": []
  },
  {
   "cell_type": "code",
   "execution_count": null,
   "id": "7ba208ed-e89c-4b01-8135-057a54b9ce0b",
   "metadata": {},
   "outputs": [],
   "source": []
  }
 ],
 "metadata": {
  "kernelspec": {
   "display_name": "Python 3 (ipykernel)",
   "language": "python",
   "name": "python3"
  },
  "language_info": {
   "codemirror_mode": {
    "name": "ipython",
    "version": 3
   },
   "file_extension": ".py",
   "mimetype": "text/x-python",
   "name": "python",
   "nbconvert_exporter": "python",
   "pygments_lexer": "ipython3",
   "version": "3.12.4"
  }
 },
 "nbformat": 4,
 "nbformat_minor": 5
}
