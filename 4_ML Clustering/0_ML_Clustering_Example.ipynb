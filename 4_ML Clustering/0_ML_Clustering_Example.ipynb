{
 "cells": [
  {
   "cell_type": "code",
   "execution_count": null,
   "id": "6c15ce69-7d9c-4fca-84c4-31a918e73d05",
   "metadata": {},
   "outputs": [],
   "source": []
  },
  {
   "cell_type": "code",
   "execution_count": null,
   "id": "3033e954-4a43-403e-9cf9-30d4affa9edd",
   "metadata": {},
   "outputs": [],
   "source": []
  },
  {
   "cell_type": "markdown",
   "id": "9916aa1b-97a2-433a-ba94-b605a52d915a",
   "metadata": {},
   "source": [
    "# Python Libraries in this Notebook\n",
    "[Return to Table of Contents](#Table-of-Contents)"
   ]
  },
  {
   "cell_type": "code",
   "execution_count": 1,
   "id": "96b2b703-9cbb-4f24-8206-299093c54b59",
   "metadata": {},
   "outputs": [],
   "source": [
    "import os\n",
    "os.environ[\"OMP_NUM_THREADS\"] = '1' # Resolves warning on KMeans memory leak. Needs to be done before importing KMeans."
   ]
  },
  {
   "cell_type": "markdown",
   "id": "927b2aed-1e9b-4b98-bb93-f5c4e5a613b5",
   "metadata": {},
   "source": [
    "#### Note on the above cell:\n",
    "Note that on Windows computers you may get a memory leak warning. To solve this use the following solution: https://stackoverflow.com/questions/69596239/how-to-avoid-memory-leak-when-dealing-with-kmeans-for-example-in-this-code-i-am\n",
    "\n",
    "A memory leak is a situation in computer science that occurs when a reseource that was initailly used by a computer is not being released by the system after it is not needed."
   ]
  },
  {
   "cell_type": "code",
   "execution_count": 2,
   "id": "7386bf7f-8ea5-49ab-a6bd-2b42ebb631f7",
   "metadata": {},
   "outputs": [],
   "source": [
    "# imports\n",
    "import pandas as pd\n",
    "import numpy as np\n",
    "from numpy import unique\n",
    "\n",
    "import matplotlib.pyplot as plt\n",
    "import seaborn as sns\n",
    "\n",
    "from sklearn.cluster import KMeans # K-Means and DBSCAN algorithms\n",
    "from sklearn.feature_extraction.text import TfidfVectorizer # Vectorization Functions\n",
    "\n",
    "import nltk # Natural Langage Toolkit\n",
    "from nltk import word_tokenize, pos_tag # Tokenizer and Parts of Speech Tags\n",
    "from nltk.tokenize import RegexpTokenizer # Tokenizer\n",
    "from nltk.stem import WordNetLemmatizer # Lemmitization\n",
    "from nltk.corpus import stopwords, wordnet # Stopwords and POS tags\n",
    "#nltk.download #(One time to download 'stopwords')\n",
    "#nltk.download # (One time to download 'punkt')"
   ]
  },
  {
   "cell_type": "markdown",
   "id": "972d2563-ac79-4776-a417-b697868ed3c1",
   "metadata": {},
   "source": [
    "# Defining Notebook Default Settings"
   ]
  },
  {
   "cell_type": "code",
   "execution_count": 3,
   "id": "70ddaead-70cb-4da5-aa17-de887fc04443",
   "metadata": {},
   "outputs": [],
   "source": [
    "pd.set_option('display.max_colwidth', None) # PD has a limit of 50 characters.  Removes limit and uses the full text.\n",
    "pd.options.display.float_format = \"{:.4f}\".format # Sets PD to displays float numbers as 4 decimal places.\n",
    "plt.style.use('tableau-colorblind10') # Sets MatPlotLib default color style to 'tableau-colorblind10'\n",
    "colors = plt.rcParams['axes.prop_cycle'].by_key()['color'] # Colors cycling."
   ]
  },
  {
   "cell_type": "markdown",
   "id": "7563ad36-3ca9-4a30-bc74-92aa13eb59ab",
   "metadata": {},
   "source": [
    "# Data Loading"
   ]
  },
  {
   "cell_type": "code",
   "execution_count": 4,
   "id": "739b603d-9403-4c0c-8538-d73b5c127eb6",
   "metadata": {},
   "outputs": [],
   "source": [
    "# Load data as dataframe.\n",
    "df = pd.read_csv('./input_data/disney_plus_titles.csv')\n",
    "#df = pd.read_csv('./input_data/ufo_scrubbed.csv')\n",
    "#df = pd.read_csv('./input_data/bible_data_set.csv')"
   ]
  },
  {
   "cell_type": "markdown",
   "id": "17d37986-aa72-439d-bb6b-19107052c87e",
   "metadata": {},
   "source": [
    "## Exploratory Data Analysis (EDA)\n",
    "[Return to Table of Contents](#Table-of-Contents)\n",
    "\n",
    "Using the functions .info(), and if the data has numerical columns use the .describe(), .hist(), .pairplot(), and .corr() are always useful to explore and better understand your data. These functions always provide useful information regardless of the type of analysis or model that you will be working on. They can help in identifying issues that can be addressed thru data cleaning (e.g., unexpected feature datatype, outliers, ), identifying features that may be worth visualizing in plots and charts, identify features that can be used for clustering or that may have clusters, identify features that have outliers, and help in developing drill down and define the focus of an analysis."
   ]
  },
  {
   "cell_type": "code",
   "execution_count": 5,
   "id": "203654bd-7502-4131-a721-33c5c6ddc718",
   "metadata": {},
   "outputs": [
    {
     "name": "stdout",
     "output_type": "stream",
     "text": [
      "<class 'pandas.core.frame.DataFrame'>\n",
      "RangeIndex: 1368 entries, 0 to 1367\n",
      "Data columns (total 12 columns):\n",
      " #   Column        Non-Null Count  Dtype \n",
      "---  ------        --------------  ----- \n",
      " 0   show_id       1368 non-null   object\n",
      " 1   type          1368 non-null   object\n",
      " 2   title         1368 non-null   object\n",
      " 3   director      928 non-null    object\n",
      " 4   cast          1194 non-null   object\n",
      " 5   country       1193 non-null   object\n",
      " 6   date_added    1365 non-null   object\n",
      " 7   release_year  1368 non-null   int64 \n",
      " 8   rating        1366 non-null   object\n",
      " 9   duration      1368 non-null   object\n",
      " 10  listed_in     1368 non-null   object\n",
      " 11  description   1368 non-null   object\n",
      "dtypes: int64(1), object(11)\n",
      "memory usage: 128.4+ KB\n"
     ]
    }
   ],
   "source": [
    "df.info() # Info on columns."
   ]
  },
  {
   "cell_type": "markdown",
   "id": "7276884d-d468-4e8c-8638-def77934532c",
   "metadata": {},
   "source": [
    "# Natural Language Processing (NLP)\n",
    "\n",
    "The objective of NLP is to convert the text to a mathematical and numerical representation that can be understood by a computer to perform calculations. To accomplish this there are various models that can be used. In this example we will use the Bag of Words (BoW) model which is a matrix of the vecstors (i.e., numerical reperesentation) of each token (i.e., word, or combination of words) and where each token is a dimension within the data. In the BoW model, not all words are reprented and many words (e.g., stopwords) are removed. The matrix created is called a [sparse matrix](https://scikit-learn.org/stable/auto_examples/text/plot_document_classification_20newsgroups.html). Each column in the matrix represents a vector for each dimension (e.g., token).\n",
    "\n",
    "# Stopwords\n",
    "[Return to Table of Contents](#Table-of-Contents)\n",
    "\n",
    "Stop words are defined as words that occur too often in the corpus and do not have significant contribution to the model, providing insights, or extracting meaning. In a language these can include words that occur too often. NLP libraries (e.g., NLTK, Scikit-learn) typically have a list of predefined stop words. NLP tools can use a list of global stop words applied during text cleaning tasks as well as could also allow users submit custom list of stop words that may be industry specific. The use of stop words (custom or otherwise) need to be documented as removing important words to the corpus may either introduce errors, biases, or give the appearance of bias."
   ]
  },
  {
   "cell_type": "code",
   "execution_count": 27,
   "id": "1d6c5c88-4b62-47a8-b8ef-942690995fcb",
   "metadata": {},
   "outputs": [
    {
     "name": "stdout",
     "output_type": "stream",
     "text": [
      "['i', 'me', 'my', 'myself', 'we', 'our', 'ours', 'ourselves', 'you', \"you're\", \"you've\", \"you'll\", \"you'd\", 'your', 'yours', 'yourself', 'yourselves', 'he', 'him', 'his', 'himself', 'she', \"she's\", 'her', 'hers', 'herself', 'it', \"it's\", 'its', 'itself', 'they', 'them', 'their', 'theirs', 'themselves', 'what', 'which', 'who', 'whom', 'this', 'that', \"that'll\", 'these', 'those', 'am', 'is', 'are', 'was', 'were', 'be', 'been', 'being', 'have', 'has', 'had', 'having', 'do', 'does', 'did', 'doing', 'a', 'an', 'the', 'and', 'but', 'if', 'or', 'because', 'as', 'until', 'while', 'of', 'at', 'by', 'for', 'with', 'about', 'against', 'between', 'into', 'through', 'during', 'before', 'after', 'above', 'below', 'to', 'from', 'up', 'down', 'in', 'out', 'on', 'off', 'over', 'under', 'again', 'further', 'then', 'once', 'here', 'there', 'when', 'where', 'why', 'how', 'all', 'any', 'both', 'each', 'few', 'more', 'most', 'other', 'some', 'such', 'nor', 'only', 'own', 'same', 'so', 'than', 'too', 'very', 's', 't', 'can', 'will', 'just', 'don', \"don't\", 'should', \"should've\", 'now', 'd', 'll', 'm', 'o', 're', 've', 'y', 'ain', 'aren', \"aren't\", 'couldn', \"couldn't\", 'didn', \"didn't\", 'doesn', \"doesn't\", 'hadn', \"hadn't\", 'hasn', \"hasn't\", 'haven', \"haven't\", 'isn', \"isn't\", 'ma', 'mightn', \"mightn't\", 'mustn', \"mustn't\", 'needn', \"needn't\", 'shan', \"shan't\", 'shouldn', \"shouldn't\", 'wasn', \"wasn't\", 'weren', \"weren't\", 'won', \"won't\", 'wouldn', \"wouldn't\", 'building', 'employee', 'see', 'details', 'details', 'advisory']\n"
     ]
    }
   ],
   "source": [
    "# STOPWORDS USED FOR SAFETY OCCURRENCE CORPUS.\n",
    "# Stopwords to add need to be evaluated by a SME familiar with the corpus.\n",
    "stopwords_to_add = ['building', 'employee', # Example: ['building', 'employee','worker']\n",
    "                    'see', 'details', 'details', 'advisory'] # Disney dataset has these words in many descriptions.\n",
    "\n",
    "stopwords_custom = stopwords.words('english') + [x.lower() for x in stopwords_to_add]\n",
    "#print(stopwords_custom) # Comment out to see list of stopwords_custom before removing the 'no'.\n",
    "\n",
    "# In some cases you want to consider 2-grams especially with the word no.\n",
    "# For example 'no fire'.  Removing the word no from the stopwords list allows this to occur.\n",
    "remove_as_stopword = ['no', 'not']\n",
    "stopwords_custom = list(filter(lambda w: w not in remove_as_stopword, stopwords_custom))\n",
    "print(stopwords_custom)"
   ]
  },
  {
   "cell_type": "code",
   "execution_count": 28,
   "id": "848f42c9-1b00-42ad-bb74-2b574ef20072",
   "metadata": {},
   "outputs": [],
   "source": [
    "# The stopword list for NLTK and SciKit learn vary.\n",
    "# Recommended to review them to make sure there are no unintended consequences.\n",
    "# Note that stopwords can also be called in the SciKit learn vectorization functions (e.g., TFIDFvectorizer)\n",
    "# This can cause to inadvertently apply stopwords there as well."
   ]
  },
  {
   "cell_type": "markdown",
   "id": "679f3125-20fa-4982-8417-1ee0861e93f3",
   "metadata": {},
   "source": [
    "# Text Normalization Functions\n",
    "[Return to Table of Contents](#Table-of-Contents)\n",
    "\n",
    "During text normalization various task can be performed which include but not limited to applying lower case, removing numbers and special characters, removing stop words, and applying lemmatization and/or stemming both which reduces words to their root. \n",
    "\n",
    "Documentation:\n",
    "- NLTK Library: https://www.nltk.org/\n",
    "- NLTK WordnetLemmatizer: https://www.nltk.org/_modules/nltk/stem/wordnet.html\n",
    "- NLTK Porterstemmer: https://www.nltk.org/howto/stem.html\n",
    "\n",
    "Other References:\n",
    "- Guide for dealing with text data predictive in Python: https://www.analyticsvidhya.com/blog/2018/02/the-different-methods-deal-text-data-predictive-python/\n",
    "\n",
    "Lemmatization and Stemming References\n",
    "- https://www.machinelearningplus.com/nlp/lemmatization-examples-python/\n",
    "- https://www.analyticsvidhya.com/blog/2022/06/stemming-vs-lemmatization-in-nlp-must-know-differences/\n",
    "- https://212digital.medium.com/what-is-lemmatization-and-stemming-in-nlp-e25e142332c4"
   ]
  },
  {
   "cell_type": "code",
   "execution_count": 29,
   "id": "878677e0-f536-4837-be33-3faa42a4cc1c",
   "metadata": {},
   "outputs": [],
   "source": [
    "# Normalization of text. \n",
    "def text_normalization(text, word_reduction_method):\n",
    "    text = str(text) # Convert narrative to string.\n",
    "    df = pd.DataFrame({'': [text]}) # Converts narrative to a dataframe format use replace functions.\n",
    "    df[''] = df[''].str.lower() # Covert narrative to lower case.\n",
    "    df[''] = df[''].str.replace(r\"\\d+\", \" \", regex = True) # Remove numbers\n",
    "    df[''] = df[''].str.replace(r\"[^\\w\\s]\", \" \", regex = True) # Remove special characters\n",
    "    df[''] = df[''].str.replace(r\"_\", \" \", regex = True) # Remove underscores characters\n",
    "    df[''] = df[''].str.replace(r'\\s+', ' ', regex = True) # Replace multiple spaces with single\n",
    "    text = str(df[0:1]) # Extracts narrative from dataframe.\n",
    "    tokenizer = RegexpTokenizer(r'\\w+') # Tokenizer.\n",
    "    tokens = tokenizer.tokenize(text) # Tokenize words.\n",
    "    filtered_words = [w for w in tokens if len(w) > 1 if not w in stopwords_custom] # Note remove words of 1 letter only. Can increase to higher value as needed.\n",
    "    if word_reduction_method == 'Lemmatization':\n",
    "        lemmatizer = WordNetLemmatizer()\n",
    "        reduced_words=[lemmatizer.lemmatize(w, get_wordnet_pos(w)) for w in filtered_words] # Lemmatization.  The second argument is the POS tag.\n",
    "    if word_reduction_method == 'Stemming':\n",
    "        stemmer = PorterStemmer() # Stemming also could make the word unreadable but is faster than lemmatization.\n",
    "        reduced_words=[stemmer.stem(w) for w in filtered_words]\n",
    "    return \" \".join(reduced_words) # Join words with space.\n",
    "\n",
    "def get_wordnet_pos(word): # Reference: https://www.machinelearningplus.com/nlp/lemmatization-examples-python/#wordnetlemmatizer\n",
    "    #\"\"\"Map POS tag to first character lemmatize() accepts\"\"\"\n",
    "    tag = nltk.pos_tag([word])[0][1][0].upper()\n",
    "    tag_dict = {\"J\": wordnet.ADJ,\n",
    "                \"N\": wordnet.NOUN,\n",
    "                \"V\": wordnet.VERB,\n",
    "                \"R\": wordnet.ADV}\n",
    "    return tag_dict.get(tag, wordnet.NOUN)"
   ]
  },
  {
   "cell_type": "markdown",
   "id": "82a10811-3440-4893-8b2a-27dc1eead0b4",
   "metadata": {},
   "source": [
    "When performing NLP, you will need to decide the target feature or column. The target column will be processed and will allow us to perform various NLP tasks within the target text or category:\n",
    "- similarity calculations or ranking \n",
    "- text classification\n",
    "- text clustering \n",
    "\n",
    "Before making a decision on the target it would also be good practice to explore some statistics on the number of words, lenght of the text, and any other stats that we may think of. Note below that when normalizing text data it sometimes removes all the words and we end up with a target text with no words hence no vectors. This will cause issues later on and need to be addressed (i.e., fixed or removed)."
   ]
  },
  {
   "cell_type": "code",
   "execution_count": 30,
   "id": "a6bc3c0e-178b-4a94-b871-de0444beb280",
   "metadata": {},
   "outputs": [
    {
     "name": "stdout",
     "output_type": "stream",
     "text": [
      "CPU times: total: 4.8 s\n",
      "Wall time: 5.38 s\n"
     ]
    }
   ],
   "source": [
    "%%time\n",
    "# Applies the normalization fuction to normalize the question column of the dataset WITHOUT stemming.\n",
    "df['norm_text_wlemma'] = df['description'].apply(text_normalization, word_reduction_method = 'Lemmatization')"
   ]
  },
  {
   "cell_type": "code",
   "execution_count": 31,
   "id": "aad99c65-afe9-4a6e-9160-38960f44cee9",
   "metadata": {},
   "outputs": [
    {
     "data": {
      "text/html": [
       "<div>\n",
       "<style scoped>\n",
       "    .dataframe tbody tr th:only-of-type {\n",
       "        vertical-align: middle;\n",
       "    }\n",
       "\n",
       "    .dataframe tbody tr th {\n",
       "        vertical-align: top;\n",
       "    }\n",
       "\n",
       "    .dataframe thead th {\n",
       "        text-align: right;\n",
       "    }\n",
       "</style>\n",
       "<table border=\"1\" class=\"dataframe\">\n",
       "  <thead>\n",
       "    <tr style=\"text-align: right;\">\n",
       "      <th></th>\n",
       "      <th>show_id</th>\n",
       "      <th>type</th>\n",
       "      <th>title</th>\n",
       "      <th>director</th>\n",
       "      <th>cast</th>\n",
       "      <th>country</th>\n",
       "      <th>date_added</th>\n",
       "      <th>release_year</th>\n",
       "      <th>rating</th>\n",
       "      <th>duration</th>\n",
       "      <th>listed_in</th>\n",
       "      <th>description</th>\n",
       "      <th>norm_text_wlemma</th>\n",
       "      <th>cluster_label</th>\n",
       "    </tr>\n",
       "  </thead>\n",
       "  <tbody>\n",
       "    <tr>\n",
       "      <th>183</th>\n",
       "      <td>s184</td>\n",
       "      <td>Movie</td>\n",
       "      <td>Star Wars Vintage: Story of the Faithful Wookiee</td>\n",
       "      <td>NaN</td>\n",
       "      <td>NaN</td>\n",
       "      <td>NaN</td>\n",
       "      <td>April 2, 2021</td>\n",
       "      <td>2021</td>\n",
       "      <td>TV-Y7-FV</td>\n",
       "      <td>9 min</td>\n",
       "      <td>Animation</td>\n",
       "      <td>With his friends ailing from a sleeping virus, Chewbacca gets “help” from Boba Fett.</td>\n",
       "      <td>friend ail sleep virus chewbacca get help boba fett</td>\n",
       "      <td>3</td>\n",
       "    </tr>\n",
       "  </tbody>\n",
       "</table>\n",
       "</div>"
      ],
      "text/plain": [
       "    show_id   type                                             title director  \\\n",
       "183    s184  Movie  Star Wars Vintage: Story of the Faithful Wookiee      NaN   \n",
       "\n",
       "    cast country     date_added  release_year    rating duration  listed_in  \\\n",
       "183  NaN     NaN  April 2, 2021          2021  TV-Y7-FV    9 min  Animation   \n",
       "\n",
       "                                                                              description  \\\n",
       "183  With his friends ailing from a sleeping virus, Chewbacca gets “help” from Boba Fett.   \n",
       "\n",
       "                                        norm_text_wlemma  cluster_label  \n",
       "183  friend ail sleep virus chewbacca get help boba fett              3  "
      ]
     },
     "execution_count": 31,
     "metadata": {},
     "output_type": "execute_result"
    }
   ],
   "source": [
    "df.sample(1)"
   ]
  },
  {
   "cell_type": "markdown",
   "id": "ef2da94c-fabc-4b0b-a6e4-89fb15c14f55",
   "metadata": {},
   "source": [
    "# Data Filtering in Preparation for Clustering\n",
    "[Return to Table of Contents](#Table-of-Contents)\n",
    "\n",
    "At this stage we can apply some filtering depending on what slice of the data we want to cluster. For example, in the Disney Plus dataset we could apply clustering to the full dataset or movies only or TV shows only. For this exercise, we will not apply any filtering. Filtering can also be applied before the text normalization. "
   ]
  },
  {
   "cell_type": "markdown",
   "id": "1e5b0936-bf4c-4077-b787-fd43688207f2",
   "metadata": {},
   "source": [
    "# Text Clustering\n",
    "[Return to Table of Contents](#Table-of-Contents)\n",
    "\n",
    "Clustering is part of unsupervised machine learning (ML). When  applying clustering algorithms to text data (i.e., combined with Natural Language Processing (NLP)), the objective is to use the text words, terms, and tokens to be able to create useful and signficant clusters. In such case we can use the vectors that are created in one of the NLP models (e.g., bag of words). Once the clusters are created each individual cluster and its respective words, terms, and tokens can be evaluated individually.  \n",
    "\n",
    "References and articles on Text Clustering:\n",
    "-  Text Clustering with K-Means https://medium.com/@lucasdesa/text-clustering-with-k-means-a039d84a941b- # KMeans Clustering Metrics https://towardsdatascience.com/clustering-metrics-better-than-the-elbow-method-6926e1f723a- \n",
    "- KMeans Clustering Metrics Code https://github.com/tirthajyoti/Machine-Learning-with-Python/blob/master/Clustering-Dimensionality-Reduction/Clustering_metrics.ipy- "
   ]
  },
  {
   "cell_type": "markdown",
   "id": "53e78d23-49d2-4842-94db-d6481c9920e1",
   "metadata": {},
   "source": [
    "# Bag of Words (BoW) Model\n",
    "[Return to Table of Contents](#Table-of-Contents)\n",
    "\n",
    "In this case we will use a BoW model to vectorize the words, terms, and tokens that appear in the narratives filtered (i.e., column text). These vecstors will be utilized to perform the clustering. Note that the data input to a clustering algorithm requires the data to be an array-like and the bow_array is used as input into the clustering algorithm function."
   ]
  },
  {
   "cell_type": "code",
   "execution_count": 32,
   "id": "03a5f41a-77ad-4f46-9f0c-211c822a790a",
   "metadata": {},
   "outputs": [],
   "source": [
    "# Creating BOW for the Target DataFrame\n",
    "\n",
    "# Defining the TFIDF\n",
    "vectorizer = TfidfVectorizer(lowercase=True, \n",
    "                             analyzer='word', \n",
    "                             stop_words = None,\n",
    "                             ngram_range=(1, 2), \n",
    "                             max_df=0.95, \n",
    "                             min_df=0.01) # For max_df and min_df explanation https://stackoverflow.com/questions/27697766/understanding-min-df-and-max-df-in-scikit-countvectorizer\n",
    "bow_array = vectorizer.fit_transform(df['norm_text_wlemma']).toarray() # Converting the words within the norm_text to an array.\n",
    "\n",
    "# Returns word vectors.\n",
    "features = vectorizer.get_feature_names_out()\n",
    "df_bow = pd.DataFrame(bow_array, columns = features)"
   ]
  },
  {
   "cell_type": "code",
   "execution_count": 33,
   "id": "72288093-d9e8-4bfc-8aaf-75ad7ff378e2",
   "metadata": {},
   "outputs": [
    {
     "data": {
      "text/html": [
       "<div>\n",
       "<style scoped>\n",
       "    .dataframe tbody tr th:only-of-type {\n",
       "        vertical-align: middle;\n",
       "    }\n",
       "\n",
       "    .dataframe tbody tr th {\n",
       "        vertical-align: top;\n",
       "    }\n",
       "\n",
       "    .dataframe thead th {\n",
       "        text-align: right;\n",
       "    }\n",
       "</style>\n",
       "<table border=\"1\" class=\"dataframe\">\n",
       "  <thead>\n",
       "    <tr style=\"text-align: right;\">\n",
       "      <th></th>\n",
       "      <th>show_id</th>\n",
       "      <th>type</th>\n",
       "      <th>title</th>\n",
       "      <th>director</th>\n",
       "      <th>cast</th>\n",
       "      <th>country</th>\n",
       "      <th>date_added</th>\n",
       "      <th>release_year</th>\n",
       "      <th>rating</th>\n",
       "      <th>duration</th>\n",
       "      <th>listed_in</th>\n",
       "      <th>description</th>\n",
       "      <th>norm_text_wlemma</th>\n",
       "      <th>cluster_label</th>\n",
       "    </tr>\n",
       "  </thead>\n",
       "  <tbody>\n",
       "    <tr>\n",
       "      <th>1142</th>\n",
       "      <td>s1143</td>\n",
       "      <td>Movie</td>\n",
       "      <td>Star Wars: The Empire Strikes Back (Episode V)</td>\n",
       "      <td>Irvin Kershner</td>\n",
       "      <td>Mark Hamill, Harrison Ford, Carrie Fisher, Billy Williams, Anthony Daniels, David Prowse</td>\n",
       "      <td>United States</td>\n",
       "      <td>November 12, 2019</td>\n",
       "      <td>1980</td>\n",
       "      <td>PG</td>\n",
       "      <td>127 min</td>\n",
       "      <td>Action-Adventure, Science Fiction</td>\n",
       "      <td>Luke Skywalker trains as a Jedi and confronts Darth Vader.</td>\n",
       "      <td>luke skywalker train jedi confronts darth vader</td>\n",
       "      <td>3</td>\n",
       "    </tr>\n",
       "  </tbody>\n",
       "</table>\n",
       "</div>"
      ],
      "text/plain": [
       "     show_id   type                                           title  \\\n",
       "1142   s1143  Movie  Star Wars: The Empire Strikes Back (Episode V)   \n",
       "\n",
       "            director  \\\n",
       "1142  Irvin Kershner   \n",
       "\n",
       "                                                                                          cast  \\\n",
       "1142  Mark Hamill, Harrison Ford, Carrie Fisher, Billy Williams, Anthony Daniels, David Prowse   \n",
       "\n",
       "            country         date_added  release_year rating duration  \\\n",
       "1142  United States  November 12, 2019          1980     PG  127 min   \n",
       "\n",
       "                              listed_in  \\\n",
       "1142  Action-Adventure, Science Fiction   \n",
       "\n",
       "                                                     description  \\\n",
       "1142  Luke Skywalker trains as a Jedi and confronts Darth Vader.   \n",
       "\n",
       "                                     norm_text_wlemma  cluster_label  \n",
       "1142  luke skywalker train jedi confronts darth vader              3  "
      ]
     },
     "execution_count": 33,
     "metadata": {},
     "output_type": "execute_result"
    }
   ],
   "source": [
    "df.sample(1) # With norm_text_wlemma column added"
   ]
  },
  {
   "cell_type": "code",
   "execution_count": 34,
   "id": "1b82dcc8-e8a2-4117-977a-d3dbdd2cf09c",
   "metadata": {},
   "outputs": [
    {
     "name": "stdout",
     "output_type": "stream",
     "text": [
      "Number of null values in the norm_text_wlemma:\n",
      "0\n",
      "0\n"
     ]
    }
   ],
   "source": [
    "print(f'Number of null values in the norm_text_wlemma:')\n",
    "print(df['norm_text_wlemma'].isnull().sum()) # Checks number of rows with null values on norm_text_wlemma column\n",
    "print(df[df['norm_text_wlemma'] == ''].shape[0]) # Check number of rows with blank strings on norm_text_wlemma column "
   ]
  },
  {
   "cell_type": "code",
   "execution_count": 35,
   "id": "d6c10e0a-7d8a-4b0b-87e4-8f3e97dfc9c5",
   "metadata": {},
   "outputs": [
    {
     "name": "stdout",
     "output_type": "stream",
     "text": [
      "(1368, 14)\n",
      "(1368, 14)\n"
     ]
    }
   ],
   "source": [
    "# Drops rows with null and blank norm_text columns and resets index. \n",
    "print(df.shape)\n",
    "df = df[df['norm_text_wlemma'].notnull()].reset_index(drop=True)\n",
    "df = df[df['norm_text_wlemma'] != ''].reset_index(drop=True)\n",
    "print(df.shape)"
   ]
  },
  {
   "cell_type": "code",
   "execution_count": 36,
   "id": "04caef14-2ce2-4399-ac62-5a94ec263b1c",
   "metadata": {},
   "outputs": [
    {
     "data": {
      "text/html": [
       "<div>\n",
       "<style scoped>\n",
       "    .dataframe tbody tr th:only-of-type {\n",
       "        vertical-align: middle;\n",
       "    }\n",
       "\n",
       "    .dataframe tbody tr th {\n",
       "        vertical-align: top;\n",
       "    }\n",
       "\n",
       "    .dataframe thead th {\n",
       "        text-align: right;\n",
       "    }\n",
       "</style>\n",
       "<table border=\"1\" class=\"dataframe\">\n",
       "  <thead>\n",
       "    <tr style=\"text-align: right;\">\n",
       "      <th></th>\n",
       "      <th>across</th>\n",
       "      <th>adventure</th>\n",
       "      <th>animal</th>\n",
       "      <th>animate</th>\n",
       "      <th>baby</th>\n",
       "      <th>back</th>\n",
       "      <th>battle</th>\n",
       "      <th>bear</th>\n",
       "      <th>become</th>\n",
       "      <th>becomes</th>\n",
       "      <th>...</th>\n",
       "      <th>villain</th>\n",
       "      <th>war</th>\n",
       "      <th>way</th>\n",
       "      <th>wild</th>\n",
       "      <th>wildlife</th>\n",
       "      <th>woman</th>\n",
       "      <th>world</th>\n",
       "      <th>year</th>\n",
       "      <th>year old</th>\n",
       "      <th>young</th>\n",
       "    </tr>\n",
       "  </thead>\n",
       "  <tbody>\n",
       "    <tr>\n",
       "      <th>0</th>\n",
       "      <td>0.0000</td>\n",
       "      <td>0.0000</td>\n",
       "      <td>0.0000</td>\n",
       "      <td>0.0000</td>\n",
       "      <td>0.0000</td>\n",
       "      <td>0.0000</td>\n",
       "      <td>0.0000</td>\n",
       "      <td>0.0000</td>\n",
       "      <td>0.0000</td>\n",
       "      <td>0.0000</td>\n",
       "      <td>...</td>\n",
       "      <td>0.0000</td>\n",
       "      <td>0.0000</td>\n",
       "      <td>0.0000</td>\n",
       "      <td>0.0000</td>\n",
       "      <td>0.0000</td>\n",
       "      <td>0.0000</td>\n",
       "      <td>0.0000</td>\n",
       "      <td>0.0000</td>\n",
       "      <td>0.0000</td>\n",
       "      <td>0.0000</td>\n",
       "    </tr>\n",
       "    <tr>\n",
       "      <th>1</th>\n",
       "      <td>0.0000</td>\n",
       "      <td>0.4946</td>\n",
       "      <td>0.0000</td>\n",
       "      <td>0.0000</td>\n",
       "      <td>0.0000</td>\n",
       "      <td>0.0000</td>\n",
       "      <td>0.0000</td>\n",
       "      <td>0.0000</td>\n",
       "      <td>0.0000</td>\n",
       "      <td>0.0000</td>\n",
       "      <td>...</td>\n",
       "      <td>0.0000</td>\n",
       "      <td>0.0000</td>\n",
       "      <td>0.0000</td>\n",
       "      <td>0.0000</td>\n",
       "      <td>0.0000</td>\n",
       "      <td>0.0000</td>\n",
       "      <td>0.0000</td>\n",
       "      <td>0.0000</td>\n",
       "      <td>0.0000</td>\n",
       "      <td>0.0000</td>\n",
       "    </tr>\n",
       "    <tr>\n",
       "      <th>2</th>\n",
       "      <td>0.0000</td>\n",
       "      <td>0.0000</td>\n",
       "      <td>0.0000</td>\n",
       "      <td>0.0000</td>\n",
       "      <td>0.0000</td>\n",
       "      <td>0.0000</td>\n",
       "      <td>0.0000</td>\n",
       "      <td>0.0000</td>\n",
       "      <td>0.0000</td>\n",
       "      <td>0.0000</td>\n",
       "      <td>...</td>\n",
       "      <td>0.0000</td>\n",
       "      <td>0.0000</td>\n",
       "      <td>0.0000</td>\n",
       "      <td>0.0000</td>\n",
       "      <td>0.0000</td>\n",
       "      <td>0.0000</td>\n",
       "      <td>0.0000</td>\n",
       "      <td>0.0000</td>\n",
       "      <td>0.0000</td>\n",
       "      <td>0.0000</td>\n",
       "    </tr>\n",
       "    <tr>\n",
       "      <th>3</th>\n",
       "      <td>0.0000</td>\n",
       "      <td>0.0000</td>\n",
       "      <td>1.0000</td>\n",
       "      <td>0.0000</td>\n",
       "      <td>0.0000</td>\n",
       "      <td>0.0000</td>\n",
       "      <td>0.0000</td>\n",
       "      <td>0.0000</td>\n",
       "      <td>0.0000</td>\n",
       "      <td>0.0000</td>\n",
       "      <td>...</td>\n",
       "      <td>0.0000</td>\n",
       "      <td>0.0000</td>\n",
       "      <td>0.0000</td>\n",
       "      <td>0.0000</td>\n",
       "      <td>0.0000</td>\n",
       "      <td>0.0000</td>\n",
       "      <td>0.0000</td>\n",
       "      <td>0.0000</td>\n",
       "      <td>0.0000</td>\n",
       "      <td>0.0000</td>\n",
       "    </tr>\n",
       "    <tr>\n",
       "      <th>4</th>\n",
       "      <td>0.0000</td>\n",
       "      <td>0.0000</td>\n",
       "      <td>0.0000</td>\n",
       "      <td>0.0000</td>\n",
       "      <td>0.0000</td>\n",
       "      <td>0.0000</td>\n",
       "      <td>0.0000</td>\n",
       "      <td>0.0000</td>\n",
       "      <td>0.5002</td>\n",
       "      <td>0.0000</td>\n",
       "      <td>...</td>\n",
       "      <td>0.0000</td>\n",
       "      <td>0.0000</td>\n",
       "      <td>0.0000</td>\n",
       "      <td>0.0000</td>\n",
       "      <td>0.0000</td>\n",
       "      <td>0.0000</td>\n",
       "      <td>0.0000</td>\n",
       "      <td>0.0000</td>\n",
       "      <td>0.0000</td>\n",
       "      <td>0.0000</td>\n",
       "    </tr>\n",
       "    <tr>\n",
       "      <th>...</th>\n",
       "      <td>...</td>\n",
       "      <td>...</td>\n",
       "      <td>...</td>\n",
       "      <td>...</td>\n",
       "      <td>...</td>\n",
       "      <td>...</td>\n",
       "      <td>...</td>\n",
       "      <td>...</td>\n",
       "      <td>...</td>\n",
       "      <td>...</td>\n",
       "      <td>...</td>\n",
       "      <td>...</td>\n",
       "      <td>...</td>\n",
       "      <td>...</td>\n",
       "      <td>...</td>\n",
       "      <td>...</td>\n",
       "      <td>...</td>\n",
       "      <td>...</td>\n",
       "      <td>...</td>\n",
       "      <td>...</td>\n",
       "      <td>...</td>\n",
       "    </tr>\n",
       "    <tr>\n",
       "      <th>1363</th>\n",
       "      <td>0.0000</td>\n",
       "      <td>0.0000</td>\n",
       "      <td>0.0000</td>\n",
       "      <td>0.0000</td>\n",
       "      <td>0.0000</td>\n",
       "      <td>0.0000</td>\n",
       "      <td>0.0000</td>\n",
       "      <td>0.0000</td>\n",
       "      <td>0.0000</td>\n",
       "      <td>0.0000</td>\n",
       "      <td>...</td>\n",
       "      <td>0.0000</td>\n",
       "      <td>0.0000</td>\n",
       "      <td>0.0000</td>\n",
       "      <td>0.0000</td>\n",
       "      <td>0.0000</td>\n",
       "      <td>0.0000</td>\n",
       "      <td>0.0000</td>\n",
       "      <td>0.0000</td>\n",
       "      <td>0.0000</td>\n",
       "      <td>0.6276</td>\n",
       "    </tr>\n",
       "    <tr>\n",
       "      <th>1364</th>\n",
       "      <td>0.0000</td>\n",
       "      <td>0.0000</td>\n",
       "      <td>0.0000</td>\n",
       "      <td>0.0000</td>\n",
       "      <td>0.0000</td>\n",
       "      <td>0.0000</td>\n",
       "      <td>0.0000</td>\n",
       "      <td>0.0000</td>\n",
       "      <td>0.0000</td>\n",
       "      <td>0.0000</td>\n",
       "      <td>...</td>\n",
       "      <td>0.0000</td>\n",
       "      <td>0.0000</td>\n",
       "      <td>0.0000</td>\n",
       "      <td>0.7825</td>\n",
       "      <td>0.0000</td>\n",
       "      <td>0.0000</td>\n",
       "      <td>0.0000</td>\n",
       "      <td>0.0000</td>\n",
       "      <td>0.0000</td>\n",
       "      <td>0.0000</td>\n",
       "    </tr>\n",
       "    <tr>\n",
       "      <th>1365</th>\n",
       "      <td>0.0000</td>\n",
       "      <td>0.0000</td>\n",
       "      <td>0.0000</td>\n",
       "      <td>0.0000</td>\n",
       "      <td>0.0000</td>\n",
       "      <td>0.0000</td>\n",
       "      <td>0.0000</td>\n",
       "      <td>0.0000</td>\n",
       "      <td>0.0000</td>\n",
       "      <td>0.0000</td>\n",
       "      <td>...</td>\n",
       "      <td>0.0000</td>\n",
       "      <td>0.0000</td>\n",
       "      <td>0.0000</td>\n",
       "      <td>0.0000</td>\n",
       "      <td>0.0000</td>\n",
       "      <td>0.0000</td>\n",
       "      <td>1.0000</td>\n",
       "      <td>0.0000</td>\n",
       "      <td>0.0000</td>\n",
       "      <td>0.0000</td>\n",
       "    </tr>\n",
       "    <tr>\n",
       "      <th>1366</th>\n",
       "      <td>0.0000</td>\n",
       "      <td>0.0000</td>\n",
       "      <td>0.0000</td>\n",
       "      <td>0.0000</td>\n",
       "      <td>0.0000</td>\n",
       "      <td>0.0000</td>\n",
       "      <td>0.0000</td>\n",
       "      <td>0.0000</td>\n",
       "      <td>0.0000</td>\n",
       "      <td>0.0000</td>\n",
       "      <td>...</td>\n",
       "      <td>0.0000</td>\n",
       "      <td>0.0000</td>\n",
       "      <td>0.0000</td>\n",
       "      <td>0.0000</td>\n",
       "      <td>0.0000</td>\n",
       "      <td>0.0000</td>\n",
       "      <td>0.0000</td>\n",
       "      <td>0.0000</td>\n",
       "      <td>0.0000</td>\n",
       "      <td>0.0000</td>\n",
       "    </tr>\n",
       "    <tr>\n",
       "      <th>1367</th>\n",
       "      <td>0.0000</td>\n",
       "      <td>0.0000</td>\n",
       "      <td>0.0000</td>\n",
       "      <td>0.0000</td>\n",
       "      <td>0.0000</td>\n",
       "      <td>0.0000</td>\n",
       "      <td>0.0000</td>\n",
       "      <td>0.0000</td>\n",
       "      <td>0.0000</td>\n",
       "      <td>0.0000</td>\n",
       "      <td>...</td>\n",
       "      <td>0.0000</td>\n",
       "      <td>0.0000</td>\n",
       "      <td>0.0000</td>\n",
       "      <td>0.0000</td>\n",
       "      <td>0.0000</td>\n",
       "      <td>0.0000</td>\n",
       "      <td>0.0000</td>\n",
       "      <td>0.0000</td>\n",
       "      <td>0.0000</td>\n",
       "      <td>0.0000</td>\n",
       "    </tr>\n",
       "  </tbody>\n",
       "</table>\n",
       "<p>1368 rows × 118 columns</p>\n",
       "</div>"
      ],
      "text/plain": [
       "      across  adventure  animal  animate   baby   back  battle   bear  become  \\\n",
       "0     0.0000     0.0000  0.0000   0.0000 0.0000 0.0000  0.0000 0.0000  0.0000   \n",
       "1     0.0000     0.4946  0.0000   0.0000 0.0000 0.0000  0.0000 0.0000  0.0000   \n",
       "2     0.0000     0.0000  0.0000   0.0000 0.0000 0.0000  0.0000 0.0000  0.0000   \n",
       "3     0.0000     0.0000  1.0000   0.0000 0.0000 0.0000  0.0000 0.0000  0.0000   \n",
       "4     0.0000     0.0000  0.0000   0.0000 0.0000 0.0000  0.0000 0.0000  0.5002   \n",
       "...      ...        ...     ...      ...    ...    ...     ...    ...     ...   \n",
       "1363  0.0000     0.0000  0.0000   0.0000 0.0000 0.0000  0.0000 0.0000  0.0000   \n",
       "1364  0.0000     0.0000  0.0000   0.0000 0.0000 0.0000  0.0000 0.0000  0.0000   \n",
       "1365  0.0000     0.0000  0.0000   0.0000 0.0000 0.0000  0.0000 0.0000  0.0000   \n",
       "1366  0.0000     0.0000  0.0000   0.0000 0.0000 0.0000  0.0000 0.0000  0.0000   \n",
       "1367  0.0000     0.0000  0.0000   0.0000 0.0000 0.0000  0.0000 0.0000  0.0000   \n",
       "\n",
       "      becomes  ...  villain    war    way   wild  wildlife  woman  world  \\\n",
       "0      0.0000  ...   0.0000 0.0000 0.0000 0.0000    0.0000 0.0000 0.0000   \n",
       "1      0.0000  ...   0.0000 0.0000 0.0000 0.0000    0.0000 0.0000 0.0000   \n",
       "2      0.0000  ...   0.0000 0.0000 0.0000 0.0000    0.0000 0.0000 0.0000   \n",
       "3      0.0000  ...   0.0000 0.0000 0.0000 0.0000    0.0000 0.0000 0.0000   \n",
       "4      0.0000  ...   0.0000 0.0000 0.0000 0.0000    0.0000 0.0000 0.0000   \n",
       "...       ...  ...      ...    ...    ...    ...       ...    ...    ...   \n",
       "1363   0.0000  ...   0.0000 0.0000 0.0000 0.0000    0.0000 0.0000 0.0000   \n",
       "1364   0.0000  ...   0.0000 0.0000 0.0000 0.7825    0.0000 0.0000 0.0000   \n",
       "1365   0.0000  ...   0.0000 0.0000 0.0000 0.0000    0.0000 0.0000 1.0000   \n",
       "1366   0.0000  ...   0.0000 0.0000 0.0000 0.0000    0.0000 0.0000 0.0000   \n",
       "1367   0.0000  ...   0.0000 0.0000 0.0000 0.0000    0.0000 0.0000 0.0000   \n",
       "\n",
       "       year  year old  young  \n",
       "0    0.0000    0.0000 0.0000  \n",
       "1    0.0000    0.0000 0.0000  \n",
       "2    0.0000    0.0000 0.0000  \n",
       "3    0.0000    0.0000 0.0000  \n",
       "4    0.0000    0.0000 0.0000  \n",
       "...     ...       ...    ...  \n",
       "1363 0.0000    0.0000 0.6276  \n",
       "1364 0.0000    0.0000 0.0000  \n",
       "1365 0.0000    0.0000 0.0000  \n",
       "1366 0.0000    0.0000 0.0000  \n",
       "1367 0.0000    0.0000 0.0000  \n",
       "\n",
       "[1368 rows x 118 columns]"
      ]
     },
     "execution_count": 36,
     "metadata": {},
     "output_type": "execute_result"
    }
   ],
   "source": [
    "df_bow"
   ]
  },
  {
   "cell_type": "code",
   "execution_count": 37,
   "id": "dda22905-9ba5-4e4d-acec-fbd8c47d56d4",
   "metadata": {},
   "outputs": [
    {
     "data": {
      "text/plain": [
       "(1368, 118)"
      ]
     },
     "execution_count": 37,
     "metadata": {},
     "output_type": "execute_result"
    }
   ],
   "source": [
    "df_bow.shape\n",
    "# The first number is the number of records.  The second number is the number of words.\n",
    "# Note that the second number is highly dependenton the TfidfVectorizer parameters of ngram_range, max_df and min_df.\n",
    "# Each of these words/features/terms/tokens now represent a dimension."
   ]
  },
  {
   "cell_type": "markdown",
   "id": "b647e90a-583f-49e4-8f19-2e95f19d9746",
   "metadata": {},
   "source": [
    "# Functions\n",
    "[Return to Table of Contents](#Table-of-Contents)\n",
    "\n",
    "This functions allow to explore the topics within each cluster."
   ]
  },
  {
   "cell_type": "code",
   "execution_count": 38,
   "id": "b1862d58-438b-452b-84a4-f48540df619f",
   "metadata": {},
   "outputs": [],
   "source": [
    "#  Functions for extracting the topics.\n",
    "def get_top_features_cluster(tf_idf_array, prediction, n_feats):\n",
    "    labels = np.unique(prediction)\n",
    "    dfs = []\n",
    "    for label in labels:\n",
    "        id_temp = np.where(prediction==label) # indices for each cluster\n",
    "        x_means = np.mean(tf_idf_array[id_temp], axis = 0) # returns average score across cluster\n",
    "        sorted_means = np.argsort(x_means)[::-1][:n_feats] # indices with top 20 scores\n",
    "        features = vectorizer.get_feature_names_out()\n",
    "        best_features = [(features[i], x_means[i]) for i in sorted_means]\n",
    "        df = pd.DataFrame(best_features, columns = ['features', 'score'])\n",
    "        dfs.append(df)\n",
    "    return dfs\n",
    "\n",
    "def plotWords(dfs, n_feats):\n",
    "    plt.figure(figsize=(8, 4))\n",
    "    for i in range(0, len(dfs)):\n",
    "        plt.title((\"Most Common Words in Cluster {}\".format(i+1)), fontsize=10, fontweight='bold')\n",
    "        # Note that the \"dfs\" data frame resets its index to 0 hence the correction of the i+1 above.\n",
    "        sns.barplot(x = 'score' , y = 'features', orient = 'h', data = dfs[i][:n_feats]) \n",
    "        plt.show()"
   ]
  },
  {
   "cell_type": "markdown",
   "id": "95e00ce9-f399-4b7d-bd89-62e0125fe390",
   "metadata": {},
   "source": [
    "# KMeans\n",
    "[Return to Table of Contents](#Table-of-Contents)\n",
    "\n",
    "KMeans is a centroid based clustering algorithm where a user defines how many number of clusters (groups) the clustering algorithm will divide the data into. The algorithm defines a center for each cluster and iterates thru the vectors of the records until the distances between the records and the cluster centers are optimized. \n",
    "\n",
    "Note that in some cases cluster may be improved if the data is scaled, or dimensionality reduction is applied. Clustering algorithm also have various parameters which may have an optimal value. Depending on the clustering algorithm there may be various methods to calculate the optimal value for each parameter. For example, in Kmeans, the optimal parameter of k can be calculated using the elbow method or the silhoutte coefficient method. However, in high dimensional data (e.g., text data), these optimal values may be more difficult to calculate."
   ]
  },
  {
   "cell_type": "code",
   "execution_count": 55,
   "id": "6c8deaaf-5555-48b6-a89e-613a378b113a",
   "metadata": {},
   "outputs": [],
   "source": [
    "# Kmeans model\n",
    "k = 6 # Using 3 clusters\n",
    "cluster_pred = KMeans(n_clusters=k, random_state=42).fit_predict(bow_array)"
   ]
  },
  {
   "cell_type": "code",
   "execution_count": 56,
   "id": "df7eacc0-d2ee-4072-80e7-007bffcc6282",
   "metadata": {},
   "outputs": [
    {
     "data": {
      "text/plain": [
       "array([[   0,   20],\n",
       "       [   1,   77],\n",
       "       [   2,   30],\n",
       "       [   3,  109],\n",
       "       [   4, 1093],\n",
       "       [   5,   39]], dtype=int64)"
      ]
     },
     "execution_count": 56,
     "metadata": {},
     "output_type": "execute_result"
    }
   ],
   "source": [
    "# These returns how many of the records are in Clusters 0, 1 and 2.\n",
    "unique, counts = np.unique(cluster_pred, return_counts=True)\n",
    "np.asarray((unique, counts)).T"
   ]
  },
  {
   "cell_type": "markdown",
   "id": "f00549a8-8021-4b0d-9410-385d16b75579",
   "metadata": {},
   "source": [
    "### KMeans: Assignment of Clusters to Records\n",
    "[Return to Table of Contents](#Table-of-Contents)"
   ]
  },
  {
   "cell_type": "code",
   "execution_count": 57,
   "id": "5229a0e9-3c81-427f-b455-a8150cce5a47",
   "metadata": {},
   "outputs": [],
   "source": [
    "df_cluster_label = pd.DataFrame(cluster_pred, columns=['kmeans_cluster_label']) \n",
    "# Model.labels_ gives an array and converting the array to a dataframe."
   ]
  },
  {
   "cell_type": "code",
   "execution_count": 58,
   "id": "a15c0a22-6833-4b69-a25d-c5c9eb256c0d",
   "metadata": {},
   "outputs": [],
   "source": [
    "# Some non-data scientist stakeholders may not understand that Python is a 0 index code and may prefer assigned clusters start at 1 instead of 0.\n",
    "# This can be accomplished by adding 1 to the assigned clusters where 0 becomes 1, 1 becomes 2, 2 becomes 3, etc.\n",
    "df_cluster_label['kmeans_cluster_label'] += 1 "
   ]
  },
  {
   "cell_type": "code",
   "execution_count": 59,
   "id": "95fede90-df15-4d90-aa61-4326eca0f4de",
   "metadata": {},
   "outputs": [
    {
     "name": "stdout",
     "output_type": "stream",
     "text": [
      "Number of records assigned to a cluster: 100.0%\n"
     ]
    }
   ],
   "source": [
    "# Checks the percent of records assigned to non-zero clusters. \n",
    "# For Kmeans this should be 100 percent.\n",
    "cluster_percent = round(100*(df_cluster_label['kmeans_cluster_label'].astype(bool).sum(axis=0))/(df_cluster_label.shape[0]),1) \n",
    "print(f\"Number of records assigned to a cluster: {cluster_percent}%\")"
   ]
  },
  {
   "cell_type": "code",
   "execution_count": 60,
   "id": "e9b8f542-bfa3-4c8b-aef9-726d47ebb5ac",
   "metadata": {},
   "outputs": [
    {
     "data": {
      "text/html": [
       "<div>\n",
       "<style scoped>\n",
       "    .dataframe tbody tr th:only-of-type {\n",
       "        vertical-align: middle;\n",
       "    }\n",
       "\n",
       "    .dataframe tbody tr th {\n",
       "        vertical-align: top;\n",
       "    }\n",
       "\n",
       "    .dataframe thead th {\n",
       "        text-align: right;\n",
       "    }\n",
       "</style>\n",
       "<table border=\"1\" class=\"dataframe\">\n",
       "  <thead>\n",
       "    <tr style=\"text-align: right;\">\n",
       "      <th></th>\n",
       "      <th>show_id</th>\n",
       "      <th>type</th>\n",
       "      <th>title</th>\n",
       "      <th>director</th>\n",
       "      <th>cast</th>\n",
       "      <th>country</th>\n",
       "      <th>date_added</th>\n",
       "      <th>release_year</th>\n",
       "      <th>rating</th>\n",
       "      <th>duration</th>\n",
       "      <th>listed_in</th>\n",
       "      <th>description</th>\n",
       "      <th>norm_text_wlemma</th>\n",
       "      <th>cluster_label</th>\n",
       "    </tr>\n",
       "  </thead>\n",
       "  <tbody>\n",
       "    <tr>\n",
       "      <th>1056</th>\n",
       "      <td>s1057</td>\n",
       "      <td>Movie</td>\n",
       "      <td>Piper</td>\n",
       "      <td>Alan Barillaro</td>\n",
       "      <td>NaN</td>\n",
       "      <td>United States</td>\n",
       "      <td>November 12, 2019</td>\n",
       "      <td>2016</td>\n",
       "      <td>G</td>\n",
       "      <td>6 min</td>\n",
       "      <td>Animals &amp; Nature, Animation, Family</td>\n",
       "      <td>A sandpiper exploring by the shore encounters scary waves.</td>\n",
       "      <td>sandpiper explore shore encounter scary wave</td>\n",
       "      <td>5</td>\n",
       "    </tr>\n",
       "    <tr>\n",
       "      <th>995</th>\n",
       "      <td>s996</td>\n",
       "      <td>Movie</td>\n",
       "      <td>Mickey Down Under</td>\n",
       "      <td>Charles Nichols</td>\n",
       "      <td>NaN</td>\n",
       "      <td>United States</td>\n",
       "      <td>November 12, 2019</td>\n",
       "      <td>1948</td>\n",
       "      <td>TV-G</td>\n",
       "      <td>7 min</td>\n",
       "      <td>Animation, Comedy, Family</td>\n",
       "      <td>Mickey and Pluto vacation in Australia. See details for advisory.</td>\n",
       "      <td>mickey pluto vacation australia</td>\n",
       "      <td>5</td>\n",
       "    </tr>\n",
       "    <tr>\n",
       "      <th>848</th>\n",
       "      <td>s849</td>\n",
       "      <td>Movie</td>\n",
       "      <td>Grasshopper and the Ants</td>\n",
       "      <td>Wilfred Jackson</td>\n",
       "      <td>NaN</td>\n",
       "      <td>United States</td>\n",
       "      <td>November 12, 2019</td>\n",
       "      <td>1934</td>\n",
       "      <td>TV-G</td>\n",
       "      <td>8 min</td>\n",
       "      <td>Animation, Family, Music</td>\n",
       "      <td>A grasshopper learns a lesson about hard work. See details for advisory.</td>\n",
       "      <td>grasshopper learns lesson hard work</td>\n",
       "      <td>5</td>\n",
       "    </tr>\n",
       "  </tbody>\n",
       "</table>\n",
       "</div>"
      ],
      "text/plain": [
       "     show_id   type                     title         director cast  \\\n",
       "1056   s1057  Movie                     Piper   Alan Barillaro  NaN   \n",
       "995     s996  Movie         Mickey Down Under  Charles Nichols  NaN   \n",
       "848     s849  Movie  Grasshopper and the Ants  Wilfred Jackson  NaN   \n",
       "\n",
       "            country         date_added  release_year rating duration  \\\n",
       "1056  United States  November 12, 2019          2016      G    6 min   \n",
       "995   United States  November 12, 2019          1948   TV-G    7 min   \n",
       "848   United States  November 12, 2019          1934   TV-G    8 min   \n",
       "\n",
       "                                listed_in  \\\n",
       "1056  Animals & Nature, Animation, Family   \n",
       "995             Animation, Comedy, Family   \n",
       "848              Animation, Family, Music   \n",
       "\n",
       "                                                                   description  \\\n",
       "1056                A sandpiper exploring by the shore encounters scary waves.   \n",
       "995          Mickey and Pluto vacation in Australia. See details for advisory.   \n",
       "848   A grasshopper learns a lesson about hard work. See details for advisory.   \n",
       "\n",
       "                                  norm_text_wlemma  cluster_label  \n",
       "1056  sandpiper explore shore encounter scary wave              5  \n",
       "995                mickey pluto vacation australia              5  \n",
       "848            grasshopper learns lesson hard work              5  "
      ]
     },
     "execution_count": 60,
     "metadata": {},
     "output_type": "execute_result"
    }
   ],
   "source": [
    "df['cluster_label'] = df_cluster_label # Adding column with cluster_labels to the full dataset dataframe.\n",
    "df.sample(3)"
   ]
  },
  {
   "cell_type": "markdown",
   "id": "d7d4c2a9-2ea7-4287-ac7b-03dad102ac0f",
   "metadata": {},
   "source": [
    "### KMeans: Cluster Counts\n",
    "[Return to Table of Contents](#Table-of-Contents)"
   ]
  },
  {
   "cell_type": "code",
   "execution_count": 61,
   "id": "df857ce1-3a28-4e3e-b59d-6602a3a7a139",
   "metadata": {},
   "outputs": [
    {
     "data": {
      "image/png": "[encoded data removed]",
      "text/plain": [
       "<Figure size 640x480 with 1 Axes>"
      ]
     },
     "metadata": {},
     "output_type": "display_data"
    }
   ],
   "source": [
    "cluster_count_figure = sns.countplot(x='cluster_label', data = df)\n",
    "for p in cluster_count_figure.patches:\n",
    "    cluster_count_figure.annotate(format(p.get_height()),\n",
    "                                  (p.get_x()+p.get_width()/2, \n",
    "                                   p.get_height()), \n",
    "                                  ha = 'center', \n",
    "                                  va = 'center', \n",
    "                                  xytext = (0, 10), \n",
    "                                  textcoords = 'offset points')\n",
    "\n",
    "plt.title(label = f\"Number of Records in each cluster\")\n",
    "plt.show()"
   ]
  },
  {
   "cell_type": "markdown",
   "id": "fedc684f-ebee-4a41-b86e-3332f4b0a1ed",
   "metadata": {},
   "source": [
    "### Kmeans: Topics within Each Cluster\n",
    "[Return to Table of Contents](#Table-of-Contents)\n",
    "\n",
    "After we assign the clusters to each record we can then investigate the score (i.e., TFIDF) of the top tokens in each cluster. This allows us to be able to see the tokens within each clusters, what are the scores, and extract some insights from such results. Note that in the case of Kmeans, there will always be one or two clusters with relatively low scores because Kmeans will force all records into one cluster regardless."
   ]
  },
  {
   "cell_type": "code",
   "execution_count": 62,
   "id": "72aa273f-e900-40ff-99dd-4062530af366",
   "metadata": {},
   "outputs": [
    {
     "data": {
      "image/png": "[encoded data removed]",
      "text/plain": [
       "<Figure size 800x400 with 1 Axes>"
      ]
     },
     "metadata": {},
     "output_type": "display_data"
    },
    {
     "data": {
      "image/png": "[encoded data removed]",
      "text/plain": [
       "<Figure size 640x480 with 1 Axes>"
      ]
     },
     "metadata": {},
     "output_type": "display_data"
    },
    {
     "data": {
      "image/png": "[encoded data removed]",
      "text/plain": [
       "<Figure size 640x480 with 1 Axes>"
      ]
     },
     "metadata": {},
     "output_type": "display_data"
    },
    {
     "data": {
      "image/png": "[encoded data removed]",
      "text/plain": [
       "<Figure size 640x480 with 1 Axes>"
      ]
     },
     "metadata": {},
     "output_type": "display_data"
    },
    {
     "data": {
      "image/png": "[encoded data removed]",
      "text/plain": [
       "<Figure size 640x480 with 1 Axes>"
      ]
     },
     "metadata": {},
     "output_type": "display_data"
    },
    {
     "data": {
      "image/png": "[encoded data removed]",
      "text/plain": [
       "<Figure size 640x480 with 1 Axes>"
      ]
     },
     "metadata": {},
     "output_type": "display_data"
    }
   ],
   "source": [
    "cluster_array = df[\"cluster_label\"].to_numpy() # Converting cluster_label assigments to an array.\n",
    "n_feats = 20\n",
    "dfs = get_top_features_cluster(bow_array, cluster_array, n_feats) # Gets top n_feats (e.g., 20) from the BOW_array.\n",
    "top_topics = 10\n",
    "plotWords(dfs, top_topics) # Plots the top_topics up to n_feats."
   ]
  },
  {
   "cell_type": "markdown",
   "id": "4aa09d54-3ed2-48d5-9bd7-9a51bb509e07",
   "metadata": {},
   "source": [
    "After we have the clusters, we could also filter and obtain statistics for each cluster which may provide further insights."
   ]
  },
  {
   "cell_type": "markdown",
   "id": "cda61cfa-888d-4142-97c1-38313b28bc23",
   "metadata": {},
   "source": [
    "# NOTEBOOK END"
   ]
  },
  {
   "cell_type": "code",
   "execution_count": null,
   "id": "a92c14a0-d12f-41a9-ad9d-5a924515cd5c",
   "metadata": {},
   "outputs": [],
   "source": []
  },
  {
   "cell_type": "code",
   "execution_count": null,
   "id": "1463ab9a-b450-4546-b627-ca7c17f5d910",
   "metadata": {},
   "outputs": [],
   "source": []
  },
  {
   "cell_type": "code",
   "execution_count": null,
   "id": "ad069d96-962d-4d96-85df-3aba554952e0",
   "metadata": {},
   "outputs": [],
   "source": []
  }
 ],
 "metadata": {
  "kernelspec": {
   "display_name": "Python 3 (ipykernel)",
   "language": "python",
   "name": "python3"
  },
  "language_info": {
   "codemirror_mode": {
    "name": "ipython",
    "version": 3
   },
   "file_extension": ".py",
   "mimetype": "text/x-python",
   "name": "python",
   "nbconvert_exporter": "python",
   "pygments_lexer": "ipython3",
   "version": "3.12.4"
  }
 },
 "nbformat": 4,
 "nbformat_minor": 5
}
